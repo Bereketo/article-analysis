{
 "cells": [
  {
   "cell_type": "markdown",
   "metadata": {
    "vscode": {
     "languageId": "raw"
    }
   },
   "source": [
    "# Content Extraction and Analysis Pipeline\n",
    "\n",
    "This notebook uses the ImprovedContentExtractionAgent to:\n",
    "1. Extract and analyze news articles for companies\n",
    "2. Clean and filter results\n",
    "3. Segment by subsidiary companies\n",
    "4. Export to Excel format\n"
   ]
  },
  {
   "cell_type": "code",
   "execution_count": 10,
   "metadata": {},
   "outputs": [
    {
     "ename": "",
     "evalue": "",
     "output_type": "error",
     "traceback": [
      "\u001b[1;31mThe kernel died. Error: /home/bereket/client-projs/RedShift/.venv/bin/python: No module named ipykernel_launcher... View Jupyter <a href='command:jupyter.viewOutput'>log</a> for further details."
     ]
    }
   ],
   "source": [
    "import pandas as pd\n",
    "import warnings\n",
    "from datetime import datetime\n",
    "from pathlib import Path\n",
    "import json\n",
    "\n",
    "# Suppress warnings for cleaner output\n",
    "warnings.filterwarnings('ignore')\n",
    "\n",
    "# Import the improved content extraction agent\n",
    "from agents.improved_content_extraction_agent import ImprovedContentExtractionAgent\n",
    "from agents.alias_agent import agent_executor\n"
   ]
  },
  {
   "cell_type": "markdown",
   "metadata": {
    "vscode": {
     "languageId": "raw"
    }
   },
   "source": [
    "## Step 1: Configure Company Information\n",
    "\n",
    "Define the company aliases, parent company, and search queries\n"
   ]
  },
  {
   "cell_type": "code",
   "execution_count": 11,
   "metadata": {},
   "outputs": [
    {
     "name": "stdout",
     "output_type": "stream",
     "text": [
      "🤖 Generating AI-powered configuration for: Adani Enterprises Limited\n",
      "🔍 Using alias agent to find company aliases, parent company, and search queries...\n",
      "\n",
      "\n",
      "\u001b[1m> Entering new AgentExecutor chain...\u001b[0m\n",
      "15:34:31 - httpx - INFO - HTTP Request: POST https://ai-gpt-echo.openai.azure.com/openai/deployments/o3-mini/chat/completions?api-version=2024-12-01-preview \"HTTP/1.1 200 OK\"\n",
      "\u001b[32;1m\u001b[1;3m{\n",
      "  \"primary_alias\": \"Adani Enterprises Limited\",\n",
      "  \"aliases\": [\n",
      "    \"Adani Enterprises\",\n",
      "    \"Adani Enterprises Ltd\",\n",
      "    \"Adani Enterprise\"\n",
      "  ],\n",
      "  \"stock_symbols\": [\n",
      "    \"ADANIENT\"\n",
      "  ],\n",
      "  \"local_variants\": [\n",
      "    \"Adani Enterprises India\"\n",
      "  ],\n",
      "  \"parent_company\": \"Adani Group\",\n",
      "  \"adverse_search_querires\": [\n",
      "    \"Adani Enterprises Limited adverse news\",\n",
      "    \"Adani Enterprises Limited scandal\",\n",
      "    \"Adani Enterprises controversy\",\n",
      "    \"Adani Enterprises Ltd fraud\",\n",
      "    \"Adani Enterprise lawsuit\",\n",
      "    \"Adani Enterprises Limited whistleblower\",\n",
      "    \"Adani Enterprises Limited SEC investigation\",\n",
      "    \"Adani Group governance issues\",\n",
      "    \"Adani Enterprises Limited accounting irregularities\",\n",
      "    \"Adani Enterprises regulatory violations\"\n",
      "  ],\n",
      "  \"all_aliases\": \"Adani Enterprises Limited, Adani Enterprises, Adani Enterprises Ltd, Adani Enterprise\"\n",
      "}\u001b[0m\n",
      "\n",
      "\u001b[1m> Finished chain.\u001b[0m\n",
      "✅ Alias agent response received\n",
      "📊 Response type: <class 'dict'>\n",
      "✅ Successfully parsed JSON response\n",
      "\n",
      "🏢 Generated Configuration:\n",
      "   �� Primary Company: Adani Enterprises Limited\n",
      "   🏭 Parent Company: Adani Group\n",
      "   �� Company Aliases: Adani Enterprises Limited, Adani Enterprises, Adani Enterprises Ltd, Adani Enterprise\n",
      "   📊 Search Queries: 10 queries generated\n",
      "\n",
      "🔎 Generated search queries:\n",
      "   1. Adani Enterprises Limited adverse news\n",
      "   2. Adani Enterprises Limited scandal\n",
      "   3. Adani Enterprises controversy\n",
      "   4. Adani Enterprises Ltd fraud\n",
      "   5. Adani Enterprise lawsuit\n",
      "   ... and 5 more\n",
      "\n",
      "📋 Full AI-Generated Configuration:\n",
      "{\n",
      "  \"primary_alias\": \"Adani Enterprises Limited\",\n",
      "  \"aliases\": [\n",
      "    \"Adani Enterprises\",\n",
      "    \"Adani Enterprises Ltd\",\n",
      "    \"Adani Enterprise\"\n",
      "  ],\n",
      "  \"stock_symbols\": [\n",
      "    \"ADANIENT\"\n",
      "  ],\n",
      "  \"local_variants\": [\n",
      "    \"Adani Enterprises India\"\n",
      "  ],\n",
      "  \"parent_company\": \"Adani Group\",\n",
      "  \"adverse_search_querires\": [\n",
      "    \"Adani Enterprises Limited adverse news\",\n",
      "    \"Adani Enterprises Limited scandal\",\n",
      "    \"Adani Enterprises controversy\",\n",
      "    \"Adani Enterprises Ltd fraud\",\n",
      "    \"Adani Enterprise lawsuit\",\n",
      "    \"Adani Enterprises Limited whistleblower\",\n",
      "    \"Adani Enterprises Limited SEC investigation\",\n",
      "    \"Adani Group governance issues\",\n",
      "    \"Adani Enterprises Limited accounting irregularities\",\n",
      "    \"Adani Enterprises regulatory violations\"\n",
      "  ],\n",
      "  \"all_aliases\": \"Adani Enterprises Limited, Adani Enterprises, Adani Enterprises Ltd, Adani Enterprise\"\n",
      "}\n"
     ]
    }
   ],
   "source": [
    "# Target company name - update this for your analysis\n",
    "target_company = \"Adani Enterprises Limited\"\n",
    "\n",
    "print(f\"🤖 Generating AI-powered configuration for: {target_company}\")\n",
    "print(\"🔍 Using alias agent to find company aliases, parent company, and search queries...\")\n",
    "\n",
    "# Use the alias agent to get company information\n",
    "alias_result = agent_executor.invoke({\n",
    "    \"input\": f\"What are alias for {target_company} in India, including parent company\"\n",
    "})\n",
    "\n",
    "print(f\"✅ Alias agent response received\")\n",
    "print(f\"📊 Response type: {type(alias_result)}\")\n",
    "\n",
    "# Parse the response\n",
    "if isinstance(alias_result, dict) and 'output' in alias_result:\n",
    "    try:\n",
    "        # Try to parse JSON from the output\n",
    "        company_config = json.loads(alias_result['output'])\n",
    "        print(\"✅ Successfully parsed JSON response\")\n",
    "    except json.JSONDecodeError:\n",
    "        # If JSON parsing fails, try to extract from the text\n",
    "        print(\"⚠️  JSON parsing failed, attempting text extraction...\")\n",
    "        # Fallback: create a basic config\n",
    "        company_config = {\n",
    "            \"primary_alias\": target_company,\n",
    "            \"aliases\": [target_company],\n",
    "            \"parent_company\": \"Unknown\",\n",
    "            \"adverse_search_querires\": [\n",
    "                f\"{target_company} adverse news\",\n",
    "                f\"{target_company} fraud\",\n",
    "                f\"{target_company} controversy\",\n",
    "                f\"{target_company} lawsuit\",\n",
    "                f\"{target_company} regulatory issues\"\n",
    "            ]\n",
    "        }\n",
    "else:\n",
    "    print(\"⚠️  Unexpected response format, using fallback configuration\")\n",
    "    company_config = {\n",
    "        \"primary_alias\": target_company,\n",
    "        \"aliases\": [target_company],\n",
    "        \"parent_company\": \"Unknown\",\n",
    "        \"adverse_search_querires\": [\n",
    "            f\"{target_company} adverse news\",\n",
    "            f\"{target_company} fraud\",\n",
    "            f\"{target_company} controversy\",\n",
    "            f\"{target_company} lawsuit\",\n",
    "            f\"{target_company} regulatory issues\"\n",
    "        ]\n",
    "    }\n",
    "\n",
    "# Extract key variables\n",
    "company_aliases = company_config.get(\"all_aliases\", \", \".join(company_config.get(\"aliases\", [target_company])))\n",
    "parent_company_name = company_config.get(\"parent_company\", \"Unknown\")\n",
    "search_queries = company_config.get(\"adverse_search_querires\", [])\n",
    "primary_company_name = company_config.get(\"primary_alias\", target_company)\n",
    "\n",
    "print(f\"\\n🏢 Generated Configuration:\")\n",
    "print(f\"   �� Primary Company: {primary_company_name}\")\n",
    "print(f\"   🏭 Parent Company: {parent_company_name}\")\n",
    "print(f\"   �� Company Aliases: {company_aliases}\")\n",
    "print(f\"   📊 Search Queries: {len(search_queries)} queries generated\")\n",
    "print(f\"\\n🔎 Generated search queries:\")\n",
    "for i, query in enumerate(search_queries[:5]):\n",
    "    print(f\"   {i+1}. {query}\")\n",
    "if len(search_queries) > 5:\n",
    "    print(f\"   ... and {len(search_queries) - 5} more\")\n",
    "\n",
    "# Display full configuration for verification\n",
    "print(f\"\\n📋 Full AI-Generated Configuration:\")\n",
    "print(json.dumps(company_config, indent=2))"
   ]
  },
  {
   "cell_type": "markdown",
   "metadata": {
    "vscode": {
     "languageId": "raw"
    }
   },
   "source": [
    "## Step 2: Initialize Content Extraction Agent\n",
    "\n",
    "Create the agent with production-ready settings (no caching)\n"
   ]
  },
  {
   "cell_type": "code",
   "execution_count": 12,
   "metadata": {},
   "outputs": [
    {
     "name": "stdout",
     "output_type": "stream",
     "text": [
      "15:35:05 - agents.improved_content_extraction_agent - INFO - 🚀 Initializing ImprovedContentExtractionAgent with fresh extraction and analysis\n",
      "15:35:05 - agents.improved_content_extraction_agent - INFO - 📊 Configuration: concurrent_limit=24, num_results=10, use_duckduckgo=True\n",
      "15:35:05 - agents.improved_content_extraction_agent - INFO - 🔍 DuckDuckGo search enabled\n",
      "✅ ImprovedContentExtractionAgent initialized\n",
      "🚀 Ready for fresh content extraction and analysis\n"
     ]
    }
   ],
   "source": [
    "# Initialize the content extraction agent\n",
    "extractor = ImprovedContentExtractionAgent(\n",
    "    num_results=10,  # Number of results per query\n",
    "    concurrent_limit=24  # Concurrent processing limit\n",
    ")\n",
    "\n",
    "print(\"✅ ImprovedContentExtractionAgent initialized\")\n",
    "print(\"🚀 Ready for fresh content extraction and analysis\")\n"
   ]
  },
  {
   "cell_type": "markdown",
   "metadata": {
    "vscode": {
     "languageId": "raw"
    }
   },
   "source": [
    "## Step 3: Search and Extract Content\n",
    "\n",
    "Run the content extraction pipeline for all search queries\n"
   ]
  },
  {
   "cell_type": "code",
   "execution_count": 13,
   "metadata": {},
   "outputs": [
    {
     "name": "stdout",
     "output_type": "stream",
     "text": [
      "🚀 Starting search and content extraction for: Adani Enterprises Limited\n",
      "15:35:27 - agents.improved_content_extraction_agent - INFO - Starting fresh search and content extraction\n",
      "15:35:27 - agents.improved_content_extraction_agent - INFO - Starting content extraction for queries: ['Adani Enterprises Limited adverse news']\n",
      "15:35:27 - agents.improved_content_extraction_agent - INFO - Date range: 2024-07-25 to 2025-07-25\n",
      "15:35:27 - agents.improved_content_extraction_agent - INFO - Num results per query: 10\n",
      "15:35:27 - agents.improved_content_extraction_agent - INFO - Search engines: Google + DuckDuckGo\n"
     ]
    },
    {
     "name": "stderr",
     "output_type": "stream",
     "text": [
      "Date Windows:   0%|                                                                                           | 0/13 [00:00<?, ?window/s]"
     ]
    },
    {
     "name": "stdout",
     "output_type": "stream",
     "text": [
      "15:35:27 - agents.improved_content_extraction_agent - INFO - Searching for period: 2024-07-25 to 2024-08-25\n"
     ]
    },
    {
     "name": "stderr",
     "output_type": "stream",
     "text": [
      "\n",
      "Queries (2024-07-25 to 2024-08-25):   0%|                                                                          | 0/1 [00:00<?, ?it/s]\u001b[A"
     ]
    },
    {
     "name": "stdout",
     "output_type": "stream",
     "text": [
      "15:35:27 - agents.improved_content_extraction_agent - INFO - Searching query: Adani Enterprises Limited adverse news\n",
      "15:35:27 - agents.improved_content_extraction_agent - INFO - Google: Found 10 results for query 'Adani Enterprises Limited adverse news'\n",
      "15:35:27 - agents.improved_content_extraction_agent - INFO - DuckDuckGo: Fetching 1 pages for query 'Adani Enterprises Limited adverse news' (target: 10 results)\n",
      "15:35:27 - agents.improved_content_extraction_agent - INFO - DuckDuckGo page 1 (start=0): Found 10 results\n",
      "15:35:27 - agents.improved_content_extraction_agent - INFO - DuckDuckGo: Total 10 results for query 'Adani Enterprises Limited adverse news'\n"
     ]
    },
    {
     "name": "stderr",
     "output_type": "stream",
     "text": [
      "\n",
      "Queries (2024-07-25 to 2024-08-25): 100%|██████████████████████████████████████████████████████████████████| 1/1 [00:00<00:00,  4.07it/s]\u001b[A\n",
      "Date Windows:   8%|██████▍                                                                            | 1/13 [00:00<00:03,  3.90window/s]\u001b[A"
     ]
    },
    {
     "name": "stdout",
     "output_type": "stream",
     "text": [
      "15:35:27 - agents.improved_content_extraction_agent - INFO - Searching for period: 2024-08-25 to 2024-09-25\n"
     ]
    },
    {
     "name": "stderr",
     "output_type": "stream",
     "text": [
      "\n",
      "Queries (2024-08-25 to 2024-09-25):   0%|                                                                          | 0/1 [00:00<?, ?it/s]\u001b[A"
     ]
    },
    {
     "name": "stdout",
     "output_type": "stream",
     "text": [
      "15:35:27 - agents.improved_content_extraction_agent - INFO - Searching query: Adani Enterprises Limited adverse news\n",
      "15:35:28 - agents.improved_content_extraction_agent - INFO - Google: Found 10 results for query 'Adani Enterprises Limited adverse news'\n",
      "15:35:28 - agents.improved_content_extraction_agent - INFO - DuckDuckGo: Fetching 1 pages for query 'Adani Enterprises Limited adverse news' (target: 10 results)\n",
      "15:35:28 - agents.improved_content_extraction_agent - INFO - DuckDuckGo page 1 (start=0): Found 10 results\n",
      "15:35:28 - agents.improved_content_extraction_agent - INFO - DuckDuckGo: Total 10 results for query 'Adani Enterprises Limited adverse news'\n"
     ]
    },
    {
     "name": "stderr",
     "output_type": "stream",
     "text": [
      "\n",
      "Queries (2024-08-25 to 2024-09-25): 100%|██████████████████████████████████████████████████████████████████| 1/1 [00:00<00:00,  7.14it/s]\u001b[A\n",
      "Date Windows:  15%|████████████▊                                                                      | 2/13 [00:00<00:02,  5.11window/s]\u001b[A"
     ]
    },
    {
     "name": "stdout",
     "output_type": "stream",
     "text": [
      "15:35:28 - agents.improved_content_extraction_agent - INFO - Searching for period: 2024-09-25 to 2024-10-25\n"
     ]
    },
    {
     "name": "stderr",
     "output_type": "stream",
     "text": [
      "\n",
      "Queries (2024-09-25 to 2024-10-25):   0%|                                                                          | 0/1 [00:00<?, ?it/s]\u001b[A"
     ]
    },
    {
     "name": "stdout",
     "output_type": "stream",
     "text": [
      "15:35:28 - agents.improved_content_extraction_agent - INFO - Searching query: Adani Enterprises Limited adverse news\n",
      "15:35:28 - agents.improved_content_extraction_agent - INFO - Google: Found 10 results for query 'Adani Enterprises Limited adverse news'\n",
      "15:35:28 - agents.improved_content_extraction_agent - INFO - DuckDuckGo: Fetching 1 pages for query 'Adani Enterprises Limited adverse news' (target: 10 results)\n",
      "15:35:28 - agents.improved_content_extraction_agent - INFO - DuckDuckGo page 1 (start=0): Found 10 results\n",
      "15:35:28 - agents.improved_content_extraction_agent - INFO - DuckDuckGo: Total 10 results for query 'Adani Enterprises Limited adverse news'\n"
     ]
    },
    {
     "name": "stderr",
     "output_type": "stream",
     "text": [
      "\n",
      "Queries (2024-09-25 to 2024-10-25): 100%|██████████████████████████████████████████████████████████████████| 1/1 [00:00<00:00,  6.82it/s]\u001b[A\n",
      "Date Windows:  23%|███████████████████▏                                                               | 3/13 [00:00<00:01,  5.51window/s]\u001b[A"
     ]
    },
    {
     "name": "stdout",
     "output_type": "stream",
     "text": [
      "15:35:28 - agents.improved_content_extraction_agent - INFO - Searching for period: 2024-10-25 to 2024-11-25\n"
     ]
    },
    {
     "name": "stderr",
     "output_type": "stream",
     "text": [
      "\n",
      "Queries (2024-10-25 to 2024-11-25):   0%|                                                                          | 0/1 [00:00<?, ?it/s]\u001b[A"
     ]
    },
    {
     "name": "stdout",
     "output_type": "stream",
     "text": [
      "15:35:28 - agents.improved_content_extraction_agent - INFO - Searching query: Adani Enterprises Limited adverse news\n",
      "15:35:28 - agents.improved_content_extraction_agent - INFO - Google: Found 10 results for query 'Adani Enterprises Limited adverse news'\n",
      "15:35:28 - agents.improved_content_extraction_agent - INFO - DuckDuckGo: Fetching 1 pages for query 'Adani Enterprises Limited adverse news' (target: 10 results)\n",
      "15:35:28 - agents.improved_content_extraction_agent - INFO - DuckDuckGo page 1 (start=0): Found 10 results\n",
      "15:35:28 - agents.improved_content_extraction_agent - INFO - DuckDuckGo: Total 10 results for query 'Adani Enterprises Limited adverse news'\n"
     ]
    },
    {
     "name": "stderr",
     "output_type": "stream",
     "text": [
      "\n",
      "Queries (2024-10-25 to 2024-11-25): 100%|██████████████████████████████████████████████████████████████████| 1/1 [00:00<00:00,  8.04it/s]\u001b[A\n",
      "Date Windows:  31%|█████████████████████████▌                                                         | 4/13 [00:00<00:01,  6.01window/s]\u001b[A"
     ]
    },
    {
     "name": "stdout",
     "output_type": "stream",
     "text": [
      "15:35:28 - agents.improved_content_extraction_agent - INFO - Searching for period: 2024-11-25 to 2024-12-25\n"
     ]
    },
    {
     "name": "stderr",
     "output_type": "stream",
     "text": [
      "\n",
      "Queries (2024-11-25 to 2024-12-25):   0%|                                                                          | 0/1 [00:00<?, ?it/s]\u001b[A"
     ]
    },
    {
     "name": "stdout",
     "output_type": "stream",
     "text": [
      "15:35:28 - agents.improved_content_extraction_agent - INFO - Searching query: Adani Enterprises Limited adverse news\n",
      "15:35:28 - agents.improved_content_extraction_agent - INFO - Google: Found 10 results for query 'Adani Enterprises Limited adverse news'\n",
      "15:35:28 - agents.improved_content_extraction_agent - INFO - DuckDuckGo: Fetching 1 pages for query 'Adani Enterprises Limited adverse news' (target: 10 results)\n",
      "15:35:28 - agents.improved_content_extraction_agent - INFO - DuckDuckGo page 1 (start=0): Found 9 results\n",
      "15:35:28 - agents.improved_content_extraction_agent - INFO - DuckDuckGo: Reached end of results after page 1\n",
      "15:35:28 - agents.improved_content_extraction_agent - INFO - DuckDuckGo: Total 9 results for query 'Adani Enterprises Limited adverse news'\n"
     ]
    },
    {
     "name": "stderr",
     "output_type": "stream",
     "text": [
      "\n",
      "Queries (2024-11-25 to 2024-12-25): 100%|██████████████████████████████████████████████████████████████████| 1/1 [00:00<00:00,  2.83it/s]\u001b[A\n",
      "Date Windows:  38%|███████████████████████████████▉                                                   | 5/13 [00:01<00:01,  4.20window/s]\u001b[A"
     ]
    },
    {
     "name": "stdout",
     "output_type": "stream",
     "text": [
      "15:35:28 - agents.improved_content_extraction_agent - INFO - Searching for period: 2024-12-25 to 2025-01-25\n"
     ]
    },
    {
     "name": "stderr",
     "output_type": "stream",
     "text": [
      "\n",
      "Queries (2024-12-25 to 2025-01-25):   0%|                                                                          | 0/1 [00:00<?, ?it/s]\u001b[A"
     ]
    },
    {
     "name": "stdout",
     "output_type": "stream",
     "text": [
      "15:35:28 - agents.improved_content_extraction_agent - INFO - Searching query: Adani Enterprises Limited adverse news\n",
      "15:35:28 - agents.improved_content_extraction_agent - INFO - Google: Found 10 results for query 'Adani Enterprises Limited adverse news'\n",
      "15:35:28 - agents.improved_content_extraction_agent - INFO - DuckDuckGo: Fetching 1 pages for query 'Adani Enterprises Limited adverse news' (target: 10 results)\n",
      "15:35:28 - agents.improved_content_extraction_agent - INFO - DuckDuckGo page 1 (start=0): Found 10 results\n",
      "15:35:28 - agents.improved_content_extraction_agent - INFO - DuckDuckGo: Total 10 results for query 'Adani Enterprises Limited adverse news'\n"
     ]
    },
    {
     "name": "stderr",
     "output_type": "stream",
     "text": [
      "\n",
      "Queries (2024-12-25 to 2025-01-25): 100%|██████████████████████████████████████████████████████████████████| 1/1 [00:00<00:00,  7.34it/s]\u001b[A\n",
      "Date Windows:  46%|██████████████████████████████████████▎                                            | 6/13 [00:01<00:01,  4.81window/s]\u001b[A"
     ]
    },
    {
     "name": "stdout",
     "output_type": "stream",
     "text": [
      "15:35:28 - agents.improved_content_extraction_agent - INFO - Searching for period: 2025-01-25 to 2025-02-25\n"
     ]
    },
    {
     "name": "stderr",
     "output_type": "stream",
     "text": [
      "\n",
      "Queries (2025-01-25 to 2025-02-25):   0%|                                                                          | 0/1 [00:00<?, ?it/s]\u001b[A"
     ]
    },
    {
     "name": "stdout",
     "output_type": "stream",
     "text": [
      "15:35:28 - agents.improved_content_extraction_agent - INFO - Searching query: Adani Enterprises Limited adverse news\n",
      "15:35:29 - agents.improved_content_extraction_agent - INFO - Google: Found 10 results for query 'Adani Enterprises Limited adverse news'\n",
      "15:35:29 - agents.improved_content_extraction_agent - INFO - DuckDuckGo: Fetching 1 pages for query 'Adani Enterprises Limited adverse news' (target: 10 results)\n",
      "15:35:29 - agents.improved_content_extraction_agent - INFO - DuckDuckGo page 1 (start=0): Found 10 results\n",
      "15:35:29 - agents.improved_content_extraction_agent - INFO - DuckDuckGo: Total 10 results for query 'Adani Enterprises Limited adverse news'\n"
     ]
    },
    {
     "name": "stderr",
     "output_type": "stream",
     "text": [
      "\n",
      "Queries (2025-01-25 to 2025-02-25): 100%|██████████████████████████████████████████████████████████████████| 1/1 [00:00<00:00,  7.18it/s]\u001b[A\n",
      "Date Windows:  54%|████████████████████████████████████████████▋                                      | 7/13 [00:01<00:01,  5.25window/s]\u001b[A"
     ]
    },
    {
     "name": "stdout",
     "output_type": "stream",
     "text": [
      "15:35:29 - agents.improved_content_extraction_agent - INFO - Searching for period: 2025-02-25 to 2025-03-25\n"
     ]
    },
    {
     "name": "stderr",
     "output_type": "stream",
     "text": [
      "\n",
      "Queries (2025-02-25 to 2025-03-25):   0%|                                                                          | 0/1 [00:00<?, ?it/s]\u001b[A"
     ]
    },
    {
     "name": "stdout",
     "output_type": "stream",
     "text": [
      "15:35:29 - agents.improved_content_extraction_agent - INFO - Searching query: Adani Enterprises Limited adverse news\n",
      "15:35:29 - agents.improved_content_extraction_agent - INFO - Google: Found 10 results for query 'Adani Enterprises Limited adverse news'\n",
      "15:35:29 - agents.improved_content_extraction_agent - INFO - DuckDuckGo: Fetching 1 pages for query 'Adani Enterprises Limited adverse news' (target: 10 results)\n",
      "15:35:29 - agents.improved_content_extraction_agent - INFO - DuckDuckGo page 1 (start=0): Found 9 results\n",
      "15:35:29 - agents.improved_content_extraction_agent - INFO - DuckDuckGo: Reached end of results after page 1\n",
      "15:35:29 - agents.improved_content_extraction_agent - INFO - DuckDuckGo: Total 9 results for query 'Adani Enterprises Limited adverse news'\n"
     ]
    },
    {
     "name": "stderr",
     "output_type": "stream",
     "text": [
      "\n",
      "Queries (2025-02-25 to 2025-03-25): 100%|██████████████████████████████████████████████████████████████████| 1/1 [00:00<00:00,  7.95it/s]\u001b[A\n",
      "Date Windows:  62%|███████████████████████████████████████████████████                                | 8/13 [00:01<00:00,  5.68window/s]\u001b[A"
     ]
    },
    {
     "name": "stdout",
     "output_type": "stream",
     "text": [
      "15:35:29 - agents.improved_content_extraction_agent - INFO - Searching for period: 2025-03-25 to 2025-04-25\n"
     ]
    },
    {
     "name": "stderr",
     "output_type": "stream",
     "text": [
      "\n",
      "Queries (2025-03-25 to 2025-04-25):   0%|                                                                          | 0/1 [00:00<?, ?it/s]\u001b[A"
     ]
    },
    {
     "name": "stdout",
     "output_type": "stream",
     "text": [
      "15:35:29 - agents.improved_content_extraction_agent - INFO - Searching query: Adani Enterprises Limited adverse news\n",
      "15:35:29 - agents.improved_content_extraction_agent - INFO - Google: Found 10 results for query 'Adani Enterprises Limited adverse news'\n",
      "15:35:29 - agents.improved_content_extraction_agent - INFO - DuckDuckGo: Fetching 1 pages for query 'Adani Enterprises Limited adverse news' (target: 10 results)\n",
      "15:35:29 - agents.improved_content_extraction_agent - INFO - DuckDuckGo page 1 (start=0): Found 10 results\n",
      "15:35:29 - agents.improved_content_extraction_agent - INFO - DuckDuckGo: Total 10 results for query 'Adani Enterprises Limited adverse news'\n"
     ]
    },
    {
     "name": "stderr",
     "output_type": "stream",
     "text": [
      "\n",
      "Queries (2025-03-25 to 2025-04-25): 100%|██████████████████████████████████████████████████████████████████| 1/1 [00:00<00:00,  6.83it/s]\u001b[A\n",
      "Date Windows:  69%|█████████████████████████████████████████████████████████▍                         | 9/13 [00:01<00:00,  5.74window/s]\u001b[A"
     ]
    },
    {
     "name": "stdout",
     "output_type": "stream",
     "text": [
      "15:35:29 - agents.improved_content_extraction_agent - INFO - Searching for period: 2025-04-25 to 2025-05-25\n"
     ]
    },
    {
     "name": "stderr",
     "output_type": "stream",
     "text": [
      "\n",
      "Queries (2025-04-25 to 2025-05-25):   0%|                                                                          | 0/1 [00:00<?, ?it/s]\u001b[A"
     ]
    },
    {
     "name": "stdout",
     "output_type": "stream",
     "text": [
      "15:35:29 - agents.improved_content_extraction_agent - INFO - Searching query: Adani Enterprises Limited adverse news\n",
      "15:35:29 - agents.improved_content_extraction_agent - INFO - Google: Found 10 results for query 'Adani Enterprises Limited adverse news'\n",
      "15:35:29 - agents.improved_content_extraction_agent - INFO - DuckDuckGo: Fetching 1 pages for query 'Adani Enterprises Limited adverse news' (target: 10 results)\n",
      "15:35:29 - agents.improved_content_extraction_agent - INFO - DuckDuckGo page 1 (start=0): Found 10 results\n",
      "15:35:29 - agents.improved_content_extraction_agent - INFO - DuckDuckGo: Total 10 results for query 'Adani Enterprises Limited adverse news'\n"
     ]
    },
    {
     "name": "stderr",
     "output_type": "stream",
     "text": [
      "\n",
      "Queries (2025-04-25 to 2025-05-25): 100%|██████████████████████████████████████████████████████████████████| 1/1 [00:00<00:00,  6.65it/s]\u001b[A\n",
      "Date Windows:  77%|███████████████████████████████████████████████████████████████                   | 10/13 [00:01<00:00,  5.73window/s]\u001b[A"
     ]
    },
    {
     "name": "stdout",
     "output_type": "stream",
     "text": [
      "15:35:29 - agents.improved_content_extraction_agent - INFO - Searching for period: 2025-05-25 to 2025-06-25\n"
     ]
    },
    {
     "name": "stderr",
     "output_type": "stream",
     "text": [
      "\n",
      "Queries (2025-05-25 to 2025-06-25):   0%|                                                                          | 0/1 [00:00<?, ?it/s]\u001b[A"
     ]
    },
    {
     "name": "stdout",
     "output_type": "stream",
     "text": [
      "15:35:29 - agents.improved_content_extraction_agent - INFO - Searching query: Adani Enterprises Limited adverse news\n",
      "15:35:29 - agents.improved_content_extraction_agent - INFO - Google: Found 10 results for query 'Adani Enterprises Limited adverse news'\n",
      "15:35:29 - agents.improved_content_extraction_agent - INFO - DuckDuckGo: Fetching 1 pages for query 'Adani Enterprises Limited adverse news' (target: 10 results)\n",
      "15:35:29 - agents.improved_content_extraction_agent - INFO - DuckDuckGo page 1 (start=0): Found 10 results\n",
      "15:35:29 - agents.improved_content_extraction_agent - INFO - DuckDuckGo: Total 10 results for query 'Adani Enterprises Limited adverse news'\n"
     ]
    },
    {
     "name": "stderr",
     "output_type": "stream",
     "text": [
      "\n",
      "Queries (2025-05-25 to 2025-06-25): 100%|██████████████████████████████████████████████████████████████████| 1/1 [00:00<00:00,  4.90it/s]\u001b[A\n",
      "Date Windows:  85%|█████████████████████████████████████████████████████████████████████▍            | 11/13 [00:02<00:00,  5.21window/s]\u001b[A"
     ]
    },
    {
     "name": "stdout",
     "output_type": "stream",
     "text": [
      "15:35:29 - agents.improved_content_extraction_agent - INFO - Searching for period: 2025-06-25 to 2025-07-25\n"
     ]
    },
    {
     "name": "stderr",
     "output_type": "stream",
     "text": [
      "\n",
      "Queries (2025-06-25 to 2025-07-25):   0%|                                                                          | 0/1 [00:00<?, ?it/s]\u001b[A"
     ]
    },
    {
     "name": "stdout",
     "output_type": "stream",
     "text": [
      "15:35:29 - agents.improved_content_extraction_agent - INFO - Searching query: Adani Enterprises Limited adverse news\n",
      "15:35:29 - agents.improved_content_extraction_agent - INFO - Google: Found 10 results for query 'Adani Enterprises Limited adverse news'\n",
      "15:35:29 - agents.improved_content_extraction_agent - INFO - DuckDuckGo: Fetching 1 pages for query 'Adani Enterprises Limited adverse news' (target: 10 results)\n",
      "15:35:30 - agents.improved_content_extraction_agent - INFO - DuckDuckGo page 1 (start=0): Found 10 results\n",
      "15:35:30 - agents.improved_content_extraction_agent - INFO - DuckDuckGo: Total 10 results for query 'Adani Enterprises Limited adverse news'\n"
     ]
    },
    {
     "name": "stderr",
     "output_type": "stream",
     "text": [
      "\n",
      "Queries (2025-06-25 to 2025-07-25): 100%|██████████████████████████████████████████████████████████████████| 1/1 [00:00<00:00,  4.39it/s]\u001b[A\n",
      "Date Windows:  92%|███████████████████████████████████████████████████████████████████████████▋      | 12/13 [00:02<00:00,  4.64window/s]\u001b[A"
     ]
    },
    {
     "name": "stdout",
     "output_type": "stream",
     "text": [
      "15:35:30 - agents.improved_content_extraction_agent - INFO - Searching for period: 2025-07-25 to 2025-07-25\n"
     ]
    },
    {
     "name": "stderr",
     "output_type": "stream",
     "text": [
      "\n",
      "Queries (2025-07-25 to 2025-07-25):   0%|                                                                          | 0/1 [00:00<?, ?it/s]\u001b[A"
     ]
    },
    {
     "name": "stdout",
     "output_type": "stream",
     "text": [
      "15:35:30 - agents.improved_content_extraction_agent - INFO - Searching query: Adani Enterprises Limited adverse news\n",
      "15:35:30 - agents.improved_content_extraction_agent - INFO - Google: Found 0 results for query 'Adani Enterprises Limited adverse news'\n",
      "15:35:30 - agents.improved_content_extraction_agent - INFO - DuckDuckGo: Fetching 1 pages for query 'Adani Enterprises Limited adverse news' (target: 10 results)\n",
      "15:35:30 - agents.improved_content_extraction_agent - INFO - DuckDuckGo page 1 (start=0): Found 10 results\n",
      "15:35:30 - agents.improved_content_extraction_agent - INFO - DuckDuckGo: Total 10 results for query 'Adani Enterprises Limited adverse news'\n"
     ]
    },
    {
     "name": "stderr",
     "output_type": "stream",
     "text": [
      "\n",
      "Queries (2025-07-25 to 2025-07-25): 100%|██████████████████████████████████████████████████████████████████| 1/1 [00:00<00:00,  9.29it/s]\u001b[A\n",
      "Date Windows: 100%|██████████████████████████████████████████████████████████████████████████████████| 13/13 [00:02<00:00,  5.13window/s]\u001b[A"
     ]
    },
    {
     "name": "stdout",
     "output_type": "stream",
     "text": [
      "15:35:30 - agents.improved_content_extraction_agent - INFO - Search engine results:\n",
      "15:35:30 - agents.improved_content_extraction_agent - INFO -    🔍 Google: 120 results\n",
      "15:35:30 - agents.improved_content_extraction_agent - INFO -    🦆 DuckDuckGo: 128 results\n",
      "15:35:30 - agents.improved_content_extraction_agent - INFO -    📊 Total before deduplication: 248\n"
     ]
    },
    {
     "name": "stderr",
     "output_type": "stream",
     "text": [
      "\n"
     ]
    },
    {
     "name": "stdout",
     "output_type": "stream",
     "text": [
      "15:35:30 - agents.improved_content_extraction_agent - INFO - Search results deduplication: 248 -> 242 (6 duplicates removed)\n",
      "15:35:30 - agents.improved_content_extraction_agent - INFO - 🚀 Starting fresh extraction and analysis for 242 URLs\n",
      "15:35:30 - agents.improved_content_extraction_agent - INFO - 📊 Configuration: concurrent_limit=24\n"
     ]
    },
    {
     "name": "stderr",
     "output_type": "stream",
     "text": [
      "Processing URLs:   0%|                                                                                           | 0/242 [00:00<?, ?it/s]"
     ]
    },
    {
     "name": "stdout",
     "output_type": "stream",
     "text": [
      "15:35:33 - httpx - INFO - HTTP Request: POST https://ai-gpt-echo.openai.azure.com/openai/deployments/gpt-4.1/chat/completions?api-version=2024-12-01-preview \"HTTP/1.1 200 OK\"\n"
     ]
    },
    {
     "name": "stderr",
     "output_type": "stream",
     "text": [
      "Processing URLs:   0%|▎                                                                                  | 1/242 [00:03<14:07,  3.52s/it]"
     ]
    },
    {
     "name": "stdout",
     "output_type": "stream",
     "text": [
      "15:35:33 - httpx - INFO - HTTP Request: POST https://ai-gpt-echo.openai.azure.com/openai/deployments/gpt-4.1/chat/completions?api-version=2024-12-01-preview \"HTTP/1.1 200 OK\"\n"
     ]
    },
    {
     "name": "stderr",
     "output_type": "stream",
     "text": [
      "Processing URLs:   1%|▋                                                                                  | 2/242 [00:03<06:02,  1.51s/it]"
     ]
    },
    {
     "name": "stdout",
     "output_type": "stream",
     "text": [
      "15:35:36 - httpx - INFO - HTTP Request: POST https://ai-gpt-echo.openai.azure.com/openai/deployments/gpt-4.1/chat/completions?api-version=2024-12-01-preview \"HTTP/1.1 200 OK\"\n"
     ]
    },
    {
     "name": "stderr",
     "output_type": "stream",
     "text": [
      "Processing URLs:   1%|█                                                                                  | 3/242 [00:06<08:14,  2.07s/it]"
     ]
    },
    {
     "name": "stdout",
     "output_type": "stream",
     "text": [
      "15:35:36 - httpx - INFO - HTTP Request: POST https://ai-gpt-echo.openai.azure.com/openai/deployments/gpt-4.1/chat/completions?api-version=2024-12-01-preview \"HTTP/1.1 200 OK\"\n",
      "15:35:37 - httpx - INFO - HTTP Request: POST https://ai-gpt-echo.openai.azure.com/openai/deployments/gpt-4.1/chat/completions?api-version=2024-12-01-preview \"HTTP/1.1 400 Bad Request\"\n",
      "15:35:37 - agents.improved_content_extraction_agent - ERROR - Error in AI analysis for https://www.livemint.com/market/live-blog/adani-power-share-price-today-latest-live-updates-on-11-feb-2025-11739241095719.html: Error code: 400 - {'error': {'message': \"The response was filtered due to the prompt triggering Azure OpenAI's content management policy. Please modify your prompt and retry. To learn more about our content filtering policies please read our documentation: https://go.microsoft.com/fwlink/?linkid=2198766\", 'type': None, 'param': 'prompt', 'code': 'content_filter', 'status': 400, 'innererror': {'code': 'ResponsibleAIPolicyViolation', 'content_filter_result': {'hate': {'filtered': False, 'severity': 'safe'}, 'jailbreak': {'detected': True, 'filtered': True}, 'self_harm': {'filtered': False, 'severity': 'safe'}, 'sexual': {'filtered': False, 'severity': 'safe'}, 'violence': {'filtered': False, 'severity': 'safe'}}}}}\n"
     ]
    },
    {
     "name": "stderr",
     "output_type": "stream",
     "text": [
      "Processing URLs:   2%|█▋                                                                                 | 5/242 [00:06<04:05,  1.03s/it]"
     ]
    },
    {
     "name": "stdout",
     "output_type": "stream",
     "text": [
      "15:35:37 - httpx - INFO - HTTP Request: POST https://ai-gpt-echo.openai.azure.com/openai/deployments/gpt-4.1/chat/completions?api-version=2024-12-01-preview \"HTTP/1.1 200 OK\"\n",
      "15:35:38 - httpx - INFO - HTTP Request: POST https://ai-gpt-echo.openai.azure.com/openai/deployments/gpt-4.1/chat/completions?api-version=2024-12-01-preview \"HTTP/1.1 200 OK\"\n"
     ]
    },
    {
     "name": "stderr",
     "output_type": "stream",
     "text": [
      "Processing URLs:   3%|██▍                                                                                | 7/242 [00:07<03:03,  1.28it/s]"
     ]
    },
    {
     "name": "stdout",
     "output_type": "stream",
     "text": [
      "15:35:38 - httpx - INFO - HTTP Request: POST https://ai-gpt-echo.openai.azure.com/openai/deployments/gpt-4.1/chat/completions?api-version=2024-12-01-preview \"HTTP/1.1 200 OK\"\n"
     ]
    },
    {
     "name": "stderr",
     "output_type": "stream",
     "text": [
      "Processing URLs:   3%|██▋                                                                                | 8/242 [00:07<02:31,  1.55it/s]"
     ]
    },
    {
     "name": "stdout",
     "output_type": "stream",
     "text": [
      "15:35:38 - httpx - INFO - HTTP Request: POST https://ai-gpt-echo.openai.azure.com/openai/deployments/gpt-4.1/chat/completions?api-version=2024-12-01-preview \"HTTP/1.1 200 OK\"\n"
     ]
    },
    {
     "name": "stderr",
     "output_type": "stream",
     "text": [
      "Processing URLs:   4%|███                                                                                | 9/242 [00:08<02:09,  1.80it/s]"
     ]
    },
    {
     "name": "stdout",
     "output_type": "stream",
     "text": [
      "15:35:38 - httpx - INFO - HTTP Request: POST https://ai-gpt-echo.openai.azure.com/openai/deployments/gpt-4.1/chat/completions?api-version=2024-12-01-preview \"HTTP/1.1 200 OK\"\n"
     ]
    },
    {
     "name": "stderr",
     "output_type": "stream",
     "text": [
      "Processing URLs:   4%|███▍                                                                              | 10/242 [00:08<01:45,  2.19it/s]"
     ]
    },
    {
     "name": "stdout",
     "output_type": "stream",
     "text": [
      "15:35:38 - httpx - INFO - HTTP Request: POST https://ai-gpt-echo.openai.azure.com/openai/deployments/gpt-4.1/chat/completions?api-version=2024-12-01-preview \"HTTP/1.1 200 OK\"\n",
      "15:35:38 - httpx - INFO - HTTP Request: POST https://ai-gpt-echo.openai.azure.com/openai/deployments/gpt-4.1/chat/completions?api-version=2024-12-01-preview \"HTTP/1.1 200 OK\"\n",
      "15:35:38 - httpx - INFO - HTTP Request: POST https://ai-gpt-echo.openai.azure.com/openai/deployments/gpt-4.1/chat/completions?api-version=2024-12-01-preview \"HTTP/1.1 200 OK\"\n"
     ]
    },
    {
     "name": "stderr",
     "output_type": "stream",
     "text": [
      "Processing URLs:   5%|████▍                                                                             | 13/242 [00:08<00:54,  4.16it/s]"
     ]
    },
    {
     "name": "stdout",
     "output_type": "stream",
     "text": [
      "15:35:39 - httpx - INFO - HTTP Request: POST https://ai-gpt-echo.openai.azure.com/openai/deployments/gpt-4.1/chat/completions?api-version=2024-12-01-preview \"HTTP/1.1 200 OK\"\n"
     ]
    },
    {
     "name": "stderr",
     "output_type": "stream",
     "text": [
      "Processing URLs:   6%|████▋                                                                             | 14/242 [00:09<01:07,  3.39it/s]"
     ]
    },
    {
     "name": "stdout",
     "output_type": "stream",
     "text": [
      "15:35:39 - httpx - INFO - HTTP Request: POST https://ai-gpt-echo.openai.azure.com/openai/deployments/gpt-4.1/chat/completions?api-version=2024-12-01-preview \"HTTP/1.1 200 OK\"\n"
     ]
    },
    {
     "name": "stderr",
     "output_type": "stream",
     "text": [
      "Processing URLs:   6%|█████                                                                             | 15/242 [00:09<01:05,  3.47it/s]"
     ]
    },
    {
     "name": "stdout",
     "output_type": "stream",
     "text": [
      "15:35:39 - httpx - INFO - HTTP Request: POST https://ai-gpt-echo.openai.azure.com/openai/deployments/gpt-4.1/chat/completions?api-version=2024-12-01-preview \"HTTP/1.1 200 OK\"\n",
      "15:35:40 - httpx - INFO - HTTP Request: POST https://ai-gpt-echo.openai.azure.com/openai/deployments/gpt-4.1/chat/completions?api-version=2024-12-01-preview \"HTTP/1.1 200 OK\"\n"
     ]
    },
    {
     "name": "stderr",
     "output_type": "stream",
     "text": [
      "Processing URLs:   7%|█████▊                                                                            | 17/242 [00:09<00:59,  3.80it/s]"
     ]
    },
    {
     "name": "stdout",
     "output_type": "stream",
     "text": [
      "15:35:40 - httpx - INFO - HTTP Request: POST https://ai-gpt-echo.openai.azure.com/openai/deployments/gpt-4.1/chat/completions?api-version=2024-12-01-preview \"HTTP/1.1 200 OK\"\n"
     ]
    },
    {
     "name": "stderr",
     "output_type": "stream",
     "text": [
      "Processing URLs:   7%|██████                                                                            | 18/242 [00:10<01:07,  3.32it/s]"
     ]
    },
    {
     "name": "stdout",
     "output_type": "stream",
     "text": [
      "15:35:40 - httpx - INFO - HTTP Request: POST https://ai-gpt-echo.openai.azure.com/openai/deployments/gpt-4.1/chat/completions?api-version=2024-12-01-preview \"HTTP/1.1 200 OK\"\n"
     ]
    },
    {
     "name": "stderr",
     "output_type": "stream",
     "text": [
      "Processing URLs:   8%|██████▍                                                                           | 19/242 [00:10<00:59,  3.77it/s]"
     ]
    },
    {
     "name": "stdout",
     "output_type": "stream",
     "text": [
      "15:35:40 - httpx - INFO - HTTP Request: POST https://ai-gpt-echo.openai.azure.com/openai/deployments/gpt-4.1/chat/completions?api-version=2024-12-01-preview \"HTTP/1.1 200 OK\"\n",
      "15:35:41 - httpx - INFO - HTTP Request: POST https://ai-gpt-echo.openai.azure.com/openai/deployments/gpt-4.1/chat/completions?api-version=2024-12-01-preview \"HTTP/1.1 200 OK\"\n"
     ]
    },
    {
     "name": "stderr",
     "output_type": "stream",
     "text": [
      "Processing URLs:   9%|███████                                                                           | 21/242 [00:10<00:55,  3.96it/s]"
     ]
    },
    {
     "name": "stdout",
     "output_type": "stream",
     "text": [
      "15:35:41 - httpx - INFO - HTTP Request: POST https://ai-gpt-echo.openai.azure.com/openai/deployments/gpt-4.1/chat/completions?api-version=2024-12-01-preview \"HTTP/1.1 200 OK\"\n"
     ]
    },
    {
     "name": "stderr",
     "output_type": "stream",
     "text": [
      "Processing URLs:   9%|███████▍                                                                          | 22/242 [00:11<01:23,  2.65it/s]"
     ]
    },
    {
     "name": "stdout",
     "output_type": "stream",
     "text": [
      "15:35:42 - httpx - INFO - HTTP Request: POST https://ai-gpt-echo.openai.azure.com/openai/deployments/gpt-4.1/chat/completions?api-version=2024-12-01-preview \"HTTP/1.1 200 OK\"\n"
     ]
    },
    {
     "name": "stderr",
     "output_type": "stream",
     "text": [
      "Processing URLs:  10%|███████▊                                                                          | 23/242 [00:12<01:25,  2.57it/s]"
     ]
    },
    {
     "name": "stdout",
     "output_type": "stream",
     "text": [
      "15:35:42 - httpx - INFO - HTTP Request: POST https://ai-gpt-echo.openai.azure.com/openai/deployments/gpt-4.1/chat/completions?api-version=2024-12-01-preview \"HTTP/1.1 200 OK\"\n"
     ]
    },
    {
     "name": "stderr",
     "output_type": "stream",
     "text": [
      "Processing URLs:  10%|████████▏                                                                         | 24/242 [00:12<01:12,  3.01it/s]"
     ]
    },
    {
     "name": "stdout",
     "output_type": "stream",
     "text": [
      "15:35:42 - httpx - INFO - HTTP Request: POST https://ai-gpt-echo.openai.azure.com/openai/deployments/gpt-4.1/chat/completions?api-version=2024-12-01-preview \"HTTP/1.1 200 OK\"\n"
     ]
    },
    {
     "name": "stderr",
     "output_type": "stream",
     "text": [
      "Processing URLs:  10%|████████▍                                                                         | 25/242 [00:12<01:09,  3.12it/s]"
     ]
    },
    {
     "name": "stdout",
     "output_type": "stream",
     "text": [
      "15:35:43 - httpx - INFO - HTTP Request: POST https://ai-gpt-echo.openai.azure.com/openai/deployments/gpt-4.1/chat/completions?api-version=2024-12-01-preview \"HTTP/1.1 200 OK\"\n"
     ]
    },
    {
     "name": "stderr",
     "output_type": "stream",
     "text": [
      "Processing URLs:  11%|████████▊                                                                         | 26/242 [00:13<01:34,  2.29it/s]"
     ]
    },
    {
     "name": "stdout",
     "output_type": "stream",
     "text": [
      "15:35:43 - httpx - INFO - HTTP Request: POST https://ai-gpt-echo.openai.azure.com/openai/deployments/gpt-4.1/chat/completions?api-version=2024-12-01-preview \"HTTP/1.1 200 OK\"\n",
      "15:35:44 - httpx - INFO - HTTP Request: POST https://ai-gpt-echo.openai.azure.com/openai/deployments/gpt-4.1/chat/completions?api-version=2024-12-01-preview \"HTTP/1.1 200 OK\"\n"
     ]
    },
    {
     "name": "stderr",
     "output_type": "stream",
     "text": [
      "Processing URLs:  12%|█████████▍                                                                        | 28/242 [00:14<01:43,  2.06it/s]"
     ]
    },
    {
     "name": "stdout",
     "output_type": "stream",
     "text": [
      "15:35:45 - httpx - INFO - HTTP Request: POST https://ai-gpt-echo.openai.azure.com/openai/deployments/gpt-4.1/chat/completions?api-version=2024-12-01-preview \"HTTP/1.1 200 OK\"\n"
     ]
    },
    {
     "name": "stderr",
     "output_type": "stream",
     "text": [
      "Processing URLs:  12%|█████████▊                                                                        | 29/242 [00:14<01:46,  2.00it/s]"
     ]
    },
    {
     "name": "stdout",
     "output_type": "stream",
     "text": [
      "15:35:45 - httpx - INFO - HTTP Request: POST https://ai-gpt-echo.openai.azure.com/openai/deployments/gpt-4.1/chat/completions?api-version=2024-12-01-preview \"HTTP/1.1 200 OK\"\n"
     ]
    },
    {
     "name": "stderr",
     "output_type": "stream",
     "text": [
      "Processing URLs:  12%|██████████▏                                                                       | 30/242 [00:15<01:27,  2.43it/s]"
     ]
    },
    {
     "name": "stdout",
     "output_type": "stream",
     "text": [
      "15:35:46 - httpx - INFO - HTTP Request: POST https://ai-gpt-echo.openai.azure.com/openai/deployments/gpt-4.1/chat/completions?api-version=2024-12-01-preview \"HTTP/1.1 200 OK\"\n"
     ]
    },
    {
     "name": "stderr",
     "output_type": "stream",
     "text": [
      "Processing URLs:  13%|██████████▌                                                                       | 31/242 [00:16<01:55,  1.83it/s]"
     ]
    },
    {
     "name": "stdout",
     "output_type": "stream",
     "text": [
      "15:35:47 - httpx - INFO - HTTP Request: POST https://ai-gpt-echo.openai.azure.com/openai/deployments/gpt-4.1/chat/completions?api-version=2024-12-01-preview \"HTTP/1.1 200 OK\"\n"
     ]
    },
    {
     "name": "stderr",
     "output_type": "stream",
     "text": [
      "Processing URLs:  13%|██████████▊                                                                       | 32/242 [00:17<02:29,  1.40it/s]"
     ]
    },
    {
     "name": "stdout",
     "output_type": "stream",
     "text": [
      "15:35:47 - httpx - INFO - HTTP Request: POST https://ai-gpt-echo.openai.azure.com/openai/deployments/gpt-4.1/chat/completions?api-version=2024-12-01-preview \"HTTP/1.1 200 OK\"\n",
      "15:35:47 - httpx - INFO - HTTP Request: POST https://ai-gpt-echo.openai.azure.com/openai/deployments/gpt-4.1/chat/completions?api-version=2024-12-01-preview \"HTTP/1.1 200 OK\"\n"
     ]
    },
    {
     "name": "stderr",
     "output_type": "stream",
     "text": [
      "Processing URLs:  14%|███████████▏                                                                      | 33/242 [00:17<02:11,  1.58it/s]"
     ]
    },
    {
     "name": "stdout",
     "output_type": "stream",
     "text": [
      "15:35:48 - httpx - INFO - HTTP Request: POST https://ai-gpt-echo.openai.azure.com/openai/deployments/gpt-4.1/chat/completions?api-version=2024-12-01-preview \"HTTP/1.1 200 OK\"\n"
     ]
    },
    {
     "name": "stderr",
     "output_type": "stream",
     "text": [
      "Processing URLs:  14%|███████████▊                                                                      | 35/242 [00:17<01:17,  2.69it/s]"
     ]
    },
    {
     "name": "stdout",
     "output_type": "stream",
     "text": [
      "15:35:48 - httpx - INFO - HTTP Request: POST https://ai-gpt-echo.openai.azure.com/openai/deployments/gpt-4.1/chat/completions?api-version=2024-12-01-preview \"HTTP/1.1 200 OK\"\n"
     ]
    },
    {
     "name": "stderr",
     "output_type": "stream",
     "text": [
      "Processing URLs:  15%|████████████▏                                                                     | 36/242 [00:18<01:26,  2.38it/s]"
     ]
    },
    {
     "name": "stdout",
     "output_type": "stream",
     "text": [
      "15:35:48 - httpx - INFO - HTTP Request: POST https://ai-gpt-echo.openai.azure.com/openai/deployments/gpt-4.1/chat/completions?api-version=2024-12-01-preview \"HTTP/1.1 200 OK\"\n"
     ]
    },
    {
     "name": "stderr",
     "output_type": "stream",
     "text": [
      "Processing URLs:  15%|████████████▌                                                                     | 37/242 [00:18<01:09,  2.95it/s]"
     ]
    },
    {
     "name": "stdout",
     "output_type": "stream",
     "text": [
      "15:35:49 - httpx - INFO - HTTP Request: POST https://ai-gpt-echo.openai.azure.com/openai/deployments/gpt-4.1/chat/completions?api-version=2024-12-01-preview \"HTTP/1.1 200 OK\"\n"
     ]
    },
    {
     "name": "stderr",
     "output_type": "stream",
     "text": [
      "Processing URLs:  16%|████████████▉                                                                     | 38/242 [00:19<01:45,  1.93it/s]"
     ]
    },
    {
     "name": "stdout",
     "output_type": "stream",
     "text": [
      "15:35:49 - httpx - INFO - HTTP Request: POST https://ai-gpt-echo.openai.azure.com/openai/deployments/gpt-4.1/chat/completions?api-version=2024-12-01-preview \"HTTP/1.1 200 OK\"\n"
     ]
    },
    {
     "name": "stderr",
     "output_type": "stream",
     "text": [
      "Processing URLs:  16%|█████████████▏                                                                    | 39/242 [00:19<01:33,  2.18it/s]"
     ]
    },
    {
     "name": "stdout",
     "output_type": "stream",
     "text": [
      "15:35:50 - httpx - INFO - HTTP Request: POST https://ai-gpt-echo.openai.azure.com/openai/deployments/gpt-4.1/chat/completions?api-version=2024-12-01-preview \"HTTP/1.1 200 OK\"\n"
     ]
    },
    {
     "name": "stderr",
     "output_type": "stream",
     "text": [
      "Processing URLs:  17%|█████████████▌                                                                    | 40/242 [00:20<01:37,  2.06it/s]"
     ]
    },
    {
     "name": "stdout",
     "output_type": "stream",
     "text": [
      "15:35:50 - httpx - INFO - HTTP Request: POST https://ai-gpt-echo.openai.azure.com/openai/deployments/gpt-4.1/chat/completions?api-version=2024-12-01-preview \"HTTP/1.1 200 OK\"\n"
     ]
    },
    {
     "name": "stderr",
     "output_type": "stream",
     "text": [
      "Processing URLs:  17%|█████████████▉                                                                    | 41/242 [00:20<01:30,  2.23it/s]"
     ]
    },
    {
     "name": "stdout",
     "output_type": "stream",
     "text": [
      "15:35:51 - httpx - INFO - HTTP Request: POST https://ai-gpt-echo.openai.azure.com/openai/deployments/gpt-4.1/chat/completions?api-version=2024-12-01-preview \"HTTP/1.1 200 OK\"\n"
     ]
    },
    {
     "name": "stderr",
     "output_type": "stream",
     "text": [
      "Processing URLs:  17%|██████████████▏                                                                   | 42/242 [00:20<01:19,  2.52it/s]"
     ]
    },
    {
     "name": "stdout",
     "output_type": "stream",
     "text": [
      "15:35:51 - httpx - INFO - HTTP Request: POST https://ai-gpt-echo.openai.azure.com/openai/deployments/gpt-4.1/chat/completions?api-version=2024-12-01-preview \"HTTP/1.1 200 OK\"\n"
     ]
    },
    {
     "name": "stderr",
     "output_type": "stream",
     "text": [
      "Processing URLs:  18%|██████████████▌                                                                   | 43/242 [00:21<01:23,  2.39it/s]"
     ]
    },
    {
     "name": "stdout",
     "output_type": "stream",
     "text": [
      "15:35:52 - httpx - INFO - HTTP Request: POST https://ai-gpt-echo.openai.azure.com/openai/deployments/gpt-4.1/chat/completions?api-version=2024-12-01-preview \"HTTP/1.1 200 OK\"\n"
     ]
    },
    {
     "name": "stderr",
     "output_type": "stream",
     "text": [
      "Processing URLs:  18%|██████████████▉                                                                   | 44/242 [00:22<01:35,  2.07it/s]"
     ]
    },
    {
     "name": "stdout",
     "output_type": "stream",
     "text": [
      "15:35:52 - httpx - INFO - HTTP Request: POST https://ai-gpt-echo.openai.azure.com/openai/deployments/gpt-4.1/chat/completions?api-version=2024-12-01-preview \"HTTP/1.1 200 OK\"\n",
      "15:35:52 - httpx - INFO - HTTP Request: POST https://ai-gpt-echo.openai.azure.com/openai/deployments/gpt-4.1/chat/completions?api-version=2024-12-01-preview \"HTTP/1.1 200 OK\"\n"
     ]
    },
    {
     "name": "stderr",
     "output_type": "stream",
     "text": [
      "Processing URLs:  19%|███████████████▌                                                                  | 46/242 [00:22<01:05,  2.97it/s]"
     ]
    },
    {
     "name": "stdout",
     "output_type": "stream",
     "text": [
      "15:35:53 - httpx - INFO - HTTP Request: POST https://ai-gpt-echo.openai.azure.com/openai/deployments/gpt-4.1/chat/completions?api-version=2024-12-01-preview \"HTTP/1.1 200 OK\"\n"
     ]
    },
    {
     "name": "stderr",
     "output_type": "stream",
     "text": [
      "Processing URLs:  19%|███████████████▉                                                                  | 47/242 [00:23<01:23,  2.33it/s]"
     ]
    },
    {
     "name": "stdout",
     "output_type": "stream",
     "text": [
      "15:35:53 - httpx - INFO - HTTP Request: POST https://ai-gpt-echo.openai.azure.com/openai/deployments/gpt-4.1/chat/completions?api-version=2024-12-01-preview \"HTTP/1.1 200 OK\"\n"
     ]
    },
    {
     "name": "stderr",
     "output_type": "stream",
     "text": [
      "Processing URLs:  20%|████████████████▎                                                                 | 48/242 [00:23<01:20,  2.40it/s]"
     ]
    },
    {
     "name": "stdout",
     "output_type": "stream",
     "text": [
      "15:35:54 - httpx - INFO - HTTP Request: POST https://ai-gpt-echo.openai.azure.com/openai/deployments/gpt-4.1/chat/completions?api-version=2024-12-01-preview \"HTTP/1.1 200 OK\"\n"
     ]
    },
    {
     "name": "stderr",
     "output_type": "stream",
     "text": [
      "Processing URLs:  20%|████████████████▌                                                                 | 49/242 [00:23<01:18,  2.46it/s]"
     ]
    },
    {
     "name": "stdout",
     "output_type": "stream",
     "text": [
      "15:35:54 - httpx - INFO - HTTP Request: POST https://ai-gpt-echo.openai.azure.com/openai/deployments/gpt-4.1/chat/completions?api-version=2024-12-01-preview \"HTTP/1.1 200 OK\"\n"
     ]
    },
    {
     "name": "stderr",
     "output_type": "stream",
     "text": [
      "Processing URLs:  21%|████████████████▉                                                                 | 50/242 [00:24<01:17,  2.49it/s]"
     ]
    },
    {
     "name": "stdout",
     "output_type": "stream",
     "text": [
      "15:35:54 - httpx - INFO - HTTP Request: POST https://ai-gpt-echo.openai.azure.com/openai/deployments/gpt-4.1/chat/completions?api-version=2024-12-01-preview \"HTTP/1.1 200 OK\"\n"
     ]
    },
    {
     "name": "stderr",
     "output_type": "stream",
     "text": [
      "Processing URLs:  21%|█████████████████▎                                                                | 51/242 [00:24<01:02,  3.06it/s]"
     ]
    },
    {
     "name": "stdout",
     "output_type": "stream",
     "text": [
      "15:35:55 - httpx - INFO - HTTP Request: POST https://ai-gpt-echo.openai.azure.com/openai/deployments/gpt-4.1/chat/completions?api-version=2024-12-01-preview \"HTTP/1.1 200 OK\"\n"
     ]
    },
    {
     "name": "stderr",
     "output_type": "stream",
     "text": [
      "Processing URLs:  21%|█████████████████▌                                                                | 52/242 [00:24<01:11,  2.64it/s]"
     ]
    },
    {
     "name": "stdout",
     "output_type": "stream",
     "text": [
      "15:35:55 - httpx - INFO - HTTP Request: POST https://ai-gpt-echo.openai.azure.com/openai/deployments/gpt-4.1/chat/completions?api-version=2024-12-01-preview \"HTTP/1.1 200 OK\"\n"
     ]
    },
    {
     "name": "stderr",
     "output_type": "stream",
     "text": [
      "Processing URLs:  22%|█████████████████▉                                                                | 53/242 [00:24<00:57,  3.29it/s]"
     ]
    },
    {
     "name": "stdout",
     "output_type": "stream",
     "text": [
      "15:35:55 - httpx - INFO - HTTP Request: POST https://ai-gpt-echo.openai.azure.com/openai/deployments/gpt-4.1/chat/completions?api-version=2024-12-01-preview \"HTTP/1.1 200 OK\"\n"
     ]
    },
    {
     "name": "stderr",
     "output_type": "stream",
     "text": [
      "Processing URLs:  22%|██████████████████▎                                                               | 54/242 [00:25<00:53,  3.49it/s]"
     ]
    },
    {
     "name": "stdout",
     "output_type": "stream",
     "text": [
      "15:35:55 - httpx - INFO - HTTP Request: POST https://ai-gpt-echo.openai.azure.com/openai/deployments/gpt-4.1/chat/completions?api-version=2024-12-01-preview \"HTTP/1.1 200 OK\"\n",
      "15:35:56 - httpx - INFO - HTTP Request: POST https://ai-gpt-echo.openai.azure.com/openai/deployments/gpt-4.1/chat/completions?api-version=2024-12-01-preview \"HTTP/1.1 200 OK\"\n"
     ]
    },
    {
     "name": "stderr",
     "output_type": "stream",
     "text": [
      "Processing URLs:  23%|██████████████████▉                                                               | 56/242 [00:26<01:11,  2.60it/s]"
     ]
    },
    {
     "name": "stdout",
     "output_type": "stream",
     "text": [
      "15:35:56 - httpx - INFO - HTTP Request: POST https://ai-gpt-echo.openai.azure.com/openai/deployments/gpt-4.1/chat/completions?api-version=2024-12-01-preview \"HTTP/1.1 200 OK\"\n"
     ]
    },
    {
     "name": "stderr",
     "output_type": "stream",
     "text": [
      "Processing URLs:  24%|███████████████████▎                                                              | 57/242 [00:26<01:01,  3.01it/s]"
     ]
    },
    {
     "name": "stdout",
     "output_type": "stream",
     "text": [
      "15:35:56 - httpx - INFO - HTTP Request: POST https://ai-gpt-echo.openai.azure.com/openai/deployments/gpt-4.1/chat/completions?api-version=2024-12-01-preview \"HTTP/1.1 200 OK\"\n"
     ]
    },
    {
     "name": "stderr",
     "output_type": "stream",
     "text": [
      "Processing URLs:  24%|███████████████████▋                                                              | 58/242 [00:26<00:51,  3.55it/s]"
     ]
    },
    {
     "name": "stdout",
     "output_type": "stream",
     "text": [
      "15:35:56 - httpx - INFO - HTTP Request: POST https://ai-gpt-echo.openai.azure.com/openai/deployments/gpt-4.1/chat/completions?api-version=2024-12-01-preview \"HTTP/1.1 200 OK\"\n",
      "15:35:58 - httpx - INFO - HTTP Request: POST https://ai-gpt-echo.openai.azure.com/openai/deployments/gpt-4.1/chat/completions?api-version=2024-12-01-preview \"HTTP/1.1 200 OK\"\n"
     ]
    },
    {
     "name": "stderr",
     "output_type": "stream",
     "text": [
      "Processing URLs:  25%|████████████████████▎                                                             | 60/242 [00:28<01:39,  1.84it/s]"
     ]
    },
    {
     "name": "stdout",
     "output_type": "stream",
     "text": [
      "15:35:58 - httpx - INFO - HTTP Request: POST https://ai-gpt-echo.openai.azure.com/openai/deployments/gpt-4.1/chat/completions?api-version=2024-12-01-preview \"HTTP/1.1 200 OK\"\n"
     ]
    },
    {
     "name": "stderr",
     "output_type": "stream",
     "text": [
      "Processing URLs:  25%|████████████████████▋                                                             | 61/242 [00:28<01:32,  1.96it/s]"
     ]
    },
    {
     "name": "stdout",
     "output_type": "stream",
     "text": [
      "15:35:59 - httpx - INFO - HTTP Request: POST https://ai-gpt-echo.openai.azure.com/openai/deployments/gpt-4.1/chat/completions?api-version=2024-12-01-preview \"HTTP/1.1 200 OK\"\n"
     ]
    },
    {
     "name": "stderr",
     "output_type": "stream",
     "text": [
      "Processing URLs:  26%|█████████████████████                                                             | 62/242 [00:29<01:41,  1.77it/s]"
     ]
    },
    {
     "name": "stdout",
     "output_type": "stream",
     "text": [
      "15:35:59 - httpx - INFO - HTTP Request: POST https://ai-gpt-echo.openai.azure.com/openai/deployments/gpt-4.1/chat/completions?api-version=2024-12-01-preview \"HTTP/1.1 200 OK\"\n",
      "15:35:59 - httpx - INFO - HTTP Request: POST https://ai-gpt-echo.openai.azure.com/openai/deployments/gpt-4.1/chat/completions?api-version=2024-12-01-preview \"HTTP/1.1 200 OK\"\n"
     ]
    },
    {
     "name": "stderr",
     "output_type": "stream",
     "text": [
      "Processing URLs:  26%|█████████████████████▋                                                            | 64/242 [00:29<01:03,  2.79it/s]"
     ]
    },
    {
     "name": "stdout",
     "output_type": "stream",
     "text": [
      "15:36:00 - httpx - INFO - HTTP Request: POST https://ai-gpt-echo.openai.azure.com/openai/deployments/gpt-4.1/chat/completions?api-version=2024-12-01-preview \"HTTP/1.1 200 OK\"\n"
     ]
    },
    {
     "name": "stderr",
     "output_type": "stream",
     "text": [
      "Processing URLs:  27%|██████████████████████                                                            | 65/242 [00:30<01:20,  2.19it/s]"
     ]
    },
    {
     "name": "stdout",
     "output_type": "stream",
     "text": [
      "15:36:00 - httpx - INFO - HTTP Request: POST https://ai-gpt-echo.openai.azure.com/openai/deployments/gpt-4.1/chat/completions?api-version=2024-12-01-preview \"HTTP/1.1 200 OK\"\n"
     ]
    },
    {
     "name": "stderr",
     "output_type": "stream",
     "text": [
      "Processing URLs:  27%|██████████████████████▎                                                           | 66/242 [00:30<01:07,  2.63it/s]"
     ]
    },
    {
     "name": "stdout",
     "output_type": "stream",
     "text": [
      "15:36:01 - httpx - INFO - HTTP Request: POST https://ai-gpt-echo.openai.azure.com/openai/deployments/gpt-4.1/chat/completions?api-version=2024-12-01-preview \"HTTP/1.1 200 OK\"\n",
      "15:36:01 - httpx - INFO - HTTP Request: POST https://ai-gpt-echo.openai.azure.com/openai/deployments/gpt-4.1/chat/completions?api-version=2024-12-01-preview \"HTTP/1.1 200 OK\"\n"
     ]
    },
    {
     "name": "stderr",
     "output_type": "stream",
     "text": [
      "Processing URLs:  28%|██████████████████████▋                                                           | 67/242 [00:30<01:03,  2.74it/s]"
     ]
    },
    {
     "name": "stdout",
     "output_type": "stream",
     "text": [
      "15:36:01 - httpx - INFO - HTTP Request: POST https://ai-gpt-echo.openai.azure.com/openai/deployments/gpt-4.1/chat/completions?api-version=2024-12-01-preview \"HTTP/1.1 200 OK\"\n"
     ]
    },
    {
     "name": "stderr",
     "output_type": "stream",
     "text": [
      "Processing URLs:  29%|███████████████████████▍                                                          | 69/242 [00:31<00:50,  3.43it/s]"
     ]
    },
    {
     "name": "stdout",
     "output_type": "stream",
     "text": [
      "15:36:01 - httpx - INFO - HTTP Request: POST https://ai-gpt-echo.openai.azure.com/openai/deployments/gpt-4.1/chat/completions?api-version=2024-12-01-preview \"HTTP/1.1 200 OK\"\n",
      "15:36:01 - httpx - INFO - HTTP Request: POST https://ai-gpt-echo.openai.azure.com/openai/deployments/gpt-4.1/chat/completions?api-version=2024-12-01-preview \"HTTP/1.1 200 OK\"\n"
     ]
    },
    {
     "name": "stderr",
     "output_type": "stream",
     "text": [
      "Processing URLs:  29%|████████████████████████                                                          | 71/242 [00:31<00:36,  4.65it/s]"
     ]
    },
    {
     "name": "stdout",
     "output_type": "stream",
     "text": [
      "15:36:02 - httpx - INFO - HTTP Request: POST https://ai-gpt-echo.openai.azure.com/openai/deployments/gpt-4.1/chat/completions?api-version=2024-12-01-preview \"HTTP/1.1 200 OK\"\n"
     ]
    },
    {
     "name": "stderr",
     "output_type": "stream",
     "text": [
      "Processing URLs:  30%|████████████████████████▍                                                         | 72/242 [00:32<00:58,  2.93it/s]"
     ]
    },
    {
     "name": "stdout",
     "output_type": "stream",
     "text": [
      "15:36:02 - httpx - INFO - HTTP Request: POST https://ai-gpt-echo.openai.azure.com/openai/deployments/gpt-4.1/chat/completions?api-version=2024-12-01-preview \"HTTP/1.1 200 OK\"\n"
     ]
    },
    {
     "name": "stderr",
     "output_type": "stream",
     "text": [
      "Processing URLs:  30%|████████████████████████▋                                                         | 73/242 [00:32<00:58,  2.91it/s]"
     ]
    },
    {
     "name": "stdout",
     "output_type": "stream",
     "text": [
      "15:36:03 - httpx - INFO - HTTP Request: POST https://ai-gpt-echo.openai.azure.com/openai/deployments/gpt-4.1/chat/completions?api-version=2024-12-01-preview \"HTTP/1.1 200 OK\"\n",
      "15:36:03 - httpx - INFO - HTTP Request: POST https://ai-gpt-echo.openai.azure.com/openai/deployments/gpt-4.1/chat/completions?api-version=2024-12-01-preview \"HTTP/1.1 200 OK\"\n"
     ]
    },
    {
     "name": "stderr",
     "output_type": "stream",
     "text": [
      "Processing URLs:  31%|█████████████████████████                                                         | 74/242 [00:33<01:09,  2.42it/s]"
     ]
    },
    {
     "name": "stdout",
     "output_type": "stream",
     "text": [
      "15:36:03 - httpx - INFO - HTTP Request: POST https://ai-gpt-echo.openai.azure.com/openai/deployments/gpt-4.1/chat/completions?api-version=2024-12-01-preview \"HTTP/1.1 200 OK\"\n",
      "15:36:04 - httpx - INFO - HTTP Request: POST https://ai-gpt-echo.openai.azure.com/openai/deployments/gpt-4.1/chat/completions?api-version=2024-12-01-preview \"HTTP/1.1 200 OK\"\n",
      "15:36:04 - httpx - INFO - HTTP Request: POST https://ai-gpt-echo.openai.azure.com/openai/deployments/gpt-4.1/chat/completions?api-version=2024-12-01-preview \"HTTP/1.1 200 OK\"\n"
     ]
    },
    {
     "name": "stderr",
     "output_type": "stream",
     "text": [
      "Processing URLs:  32%|██████████████████████████                                                        | 77/242 [00:33<00:53,  3.06it/s]"
     ]
    },
    {
     "name": "stdout",
     "output_type": "stream",
     "text": [
      "15:36:04 - httpx - INFO - HTTP Request: POST https://ai-gpt-echo.openai.azure.com/openai/deployments/gpt-4.1/chat/completions?api-version=2024-12-01-preview \"HTTP/1.1 200 OK\"\n"
     ]
    },
    {
     "name": "stderr",
     "output_type": "stream",
     "text": [
      "Processing URLs:  33%|██████████████████████████▊                                                       | 79/242 [00:34<00:41,  3.93it/s]"
     ]
    },
    {
     "name": "stdout",
     "output_type": "stream",
     "text": [
      "15:36:04 - httpx - INFO - HTTP Request: POST https://ai-gpt-echo.openai.azure.com/openai/deployments/gpt-4.1/chat/completions?api-version=2024-12-01-preview \"HTTP/1.1 200 OK\"\n"
     ]
    },
    {
     "name": "stderr",
     "output_type": "stream",
     "text": [
      "Processing URLs:  33%|███████████████████████████                                                       | 80/242 [00:34<00:37,  4.36it/s]"
     ]
    },
    {
     "name": "stdout",
     "output_type": "stream",
     "text": [
      "15:36:05 - httpx - INFO - HTTP Request: POST https://ai-gpt-echo.openai.azure.com/openai/deployments/gpt-4.1/chat/completions?api-version=2024-12-01-preview \"HTTP/1.1 200 OK\"\n"
     ]
    },
    {
     "name": "stderr",
     "output_type": "stream",
     "text": [
      "Processing URLs:  33%|███████████████████████████▍                                                      | 81/242 [00:34<00:46,  3.50it/s]"
     ]
    },
    {
     "name": "stdout",
     "output_type": "stream",
     "text": [
      "15:36:05 - httpx - INFO - HTTP Request: POST https://ai-gpt-echo.openai.azure.com/openai/deployments/gpt-4.1/chat/completions?api-version=2024-12-01-preview \"HTTP/1.1 200 OK\"\n"
     ]
    },
    {
     "name": "stderr",
     "output_type": "stream",
     "text": [
      "Processing URLs:  34%|███████████████████████████▊                                                      | 82/242 [00:34<00:39,  4.08it/s]"
     ]
    },
    {
     "name": "stdout",
     "output_type": "stream",
     "text": [
      "15:36:05 - httpx - INFO - HTTP Request: POST https://ai-gpt-echo.openai.azure.com/openai/deployments/gpt-4.1/chat/completions?api-version=2024-12-01-preview \"HTTP/1.1 200 OK\"\n"
     ]
    },
    {
     "name": "stderr",
     "output_type": "stream",
     "text": [
      "Processing URLs:  34%|████████████████████████████                                                      | 83/242 [00:35<00:34,  4.59it/s]"
     ]
    },
    {
     "name": "stdout",
     "output_type": "stream",
     "text": [
      "15:36:05 - httpx - INFO - HTTP Request: POST https://ai-gpt-echo.openai.azure.com/openai/deployments/gpt-4.1/chat/completions?api-version=2024-12-01-preview \"HTTP/1.1 200 OK\"\n"
     ]
    },
    {
     "name": "stderr",
     "output_type": "stream",
     "text": [
      "Processing URLs:  35%|████████████████████████████▍                                                     | 84/242 [00:35<00:44,  3.55it/s]"
     ]
    },
    {
     "name": "stdout",
     "output_type": "stream",
     "text": [
      "15:36:06 - httpx - INFO - HTTP Request: POST https://ai-gpt-echo.openai.azure.com/openai/deployments/gpt-4.1/chat/completions?api-version=2024-12-01-preview \"HTTP/1.1 200 OK\"\n"
     ]
    },
    {
     "name": "stderr",
     "output_type": "stream",
     "text": [
      "Processing URLs:  35%|████████████████████████████▊                                                     | 85/242 [00:35<00:45,  3.47it/s]"
     ]
    },
    {
     "name": "stdout",
     "output_type": "stream",
     "text": [
      "15:36:06 - httpx - INFO - HTTP Request: POST https://ai-gpt-echo.openai.azure.com/openai/deployments/gpt-4.1/chat/completions?api-version=2024-12-01-preview \"HTTP/1.1 200 OK\"\n"
     ]
    },
    {
     "name": "stderr",
     "output_type": "stream",
     "text": [
      "Processing URLs:  36%|█████████████████████████████▏                                                    | 86/242 [00:35<00:41,  3.77it/s]"
     ]
    },
    {
     "name": "stdout",
     "output_type": "stream",
     "text": [
      "15:36:06 - httpx - INFO - HTTP Request: POST https://ai-gpt-echo.openai.azure.com/openai/deployments/gpt-4.1/chat/completions?api-version=2024-12-01-preview \"HTTP/1.1 200 OK\"\n"
     ]
    },
    {
     "name": "stderr",
     "output_type": "stream",
     "text": [
      "Processing URLs:  36%|█████████████████████████████▍                                                    | 87/242 [00:36<00:38,  4.02it/s]"
     ]
    },
    {
     "name": "stdout",
     "output_type": "stream",
     "text": [
      "15:36:06 - httpx - INFO - HTTP Request: POST https://ai-gpt-echo.openai.azure.com/openai/deployments/gpt-4.1/chat/completions?api-version=2024-12-01-preview \"HTTP/1.1 200 OK\"\n"
     ]
    },
    {
     "name": "stderr",
     "output_type": "stream",
     "text": [
      "Processing URLs:  36%|█████████████████████████████▊                                                    | 88/242 [00:36<00:37,  4.11it/s]"
     ]
    },
    {
     "name": "stdout",
     "output_type": "stream",
     "text": [
      "15:36:07 - httpx - INFO - HTTP Request: POST https://ai-gpt-echo.openai.azure.com/openai/deployments/gpt-4.1/chat/completions?api-version=2024-12-01-preview \"HTTP/1.1 200 OK\"\n"
     ]
    },
    {
     "name": "stderr",
     "output_type": "stream",
     "text": [
      "Processing URLs:  37%|██████████████████████████████▏                                                   | 89/242 [00:36<00:48,  3.15it/s]"
     ]
    },
    {
     "name": "stdout",
     "output_type": "stream",
     "text": [
      "15:36:07 - httpx - INFO - HTTP Request: POST https://ai-gpt-echo.openai.azure.com/openai/deployments/gpt-4.1/chat/completions?api-version=2024-12-01-preview \"HTTP/1.1 200 OK\"\n",
      "15:36:07 - httpx - INFO - HTTP Request: POST https://ai-gpt-echo.openai.azure.com/openai/deployments/gpt-4.1/chat/completions?api-version=2024-12-01-preview \"HTTP/1.1 200 OK\"\n"
     ]
    },
    {
     "name": "stderr",
     "output_type": "stream",
     "text": [
      "Processing URLs:  37%|██████████████████████████████▍                                                   | 90/242 [00:37<00:57,  2.64it/s]"
     ]
    },
    {
     "name": "stdout",
     "output_type": "stream",
     "text": [
      "15:36:08 - httpx - INFO - HTTP Request: POST https://ai-gpt-echo.openai.azure.com/openai/deployments/gpt-4.1/chat/completions?api-version=2024-12-01-preview \"HTTP/1.1 200 OK\"\n"
     ]
    },
    {
     "name": "stderr",
     "output_type": "stream",
     "text": [
      "Processing URLs:  38%|███████████████████████████████▏                                                  | 92/242 [00:38<00:51,  2.89it/s]"
     ]
    },
    {
     "name": "stdout",
     "output_type": "stream",
     "text": [
      "15:36:08 - httpx - INFO - HTTP Request: POST https://ai-gpt-echo.openai.azure.com/openai/deployments/gpt-4.1/chat/completions?api-version=2024-12-01-preview \"HTTP/1.1 200 OK\"\n"
     ]
    },
    {
     "name": "stderr",
     "output_type": "stream",
     "text": [
      "Processing URLs:  38%|███████████████████████████████▌                                                  | 93/242 [00:38<00:56,  2.62it/s]"
     ]
    },
    {
     "name": "stdout",
     "output_type": "stream",
     "text": [
      "15:36:09 - httpx - INFO - HTTP Request: POST https://ai-gpt-echo.openai.azure.com/openai/deployments/gpt-4.1/chat/completions?api-version=2024-12-01-preview \"HTTP/1.1 200 OK\"\n"
     ]
    },
    {
     "name": "stderr",
     "output_type": "stream",
     "text": [
      "Processing URLs:  39%|███████████████████████████████▊                                                  | 94/242 [00:38<00:54,  2.72it/s]"
     ]
    },
    {
     "name": "stdout",
     "output_type": "stream",
     "text": [
      "15:36:09 - httpx - INFO - HTTP Request: POST https://ai-gpt-echo.openai.azure.com/openai/deployments/gpt-4.1/chat/completions?api-version=2024-12-01-preview \"HTTP/1.1 200 OK\"\n"
     ]
    },
    {
     "name": "stderr",
     "output_type": "stream",
     "text": [
      "Processing URLs:  39%|████████████████████████████████▏                                                 | 95/242 [00:39<00:49,  2.95it/s]"
     ]
    },
    {
     "name": "stdout",
     "output_type": "stream",
     "text": [
      "15:36:09 - httpx - INFO - HTTP Request: POST https://ai-gpt-echo.openai.azure.com/openai/deployments/gpt-4.1/chat/completions?api-version=2024-12-01-preview \"HTTP/1.1 200 OK\"\n"
     ]
    },
    {
     "name": "stderr",
     "output_type": "stream",
     "text": [
      "Processing URLs:  40%|████████████████████████████████▌                                                 | 96/242 [00:39<00:39,  3.66it/s]"
     ]
    },
    {
     "name": "stdout",
     "output_type": "stream",
     "text": [
      "15:36:09 - httpx - INFO - HTTP Request: POST https://ai-gpt-echo.openai.azure.com/openai/deployments/gpt-4.1/chat/completions?api-version=2024-12-01-preview \"HTTP/1.1 200 OK\"\n"
     ]
    },
    {
     "name": "stderr",
     "output_type": "stream",
     "text": [
      "Processing URLs:  40%|████████████████████████████████▊                                                 | 97/242 [00:39<00:33,  4.27it/s]"
     ]
    },
    {
     "name": "stdout",
     "output_type": "stream",
     "text": [
      "15:36:09 - httpx - INFO - HTTP Request: POST https://ai-gpt-echo.openai.azure.com/openai/deployments/gpt-4.1/chat/completions?api-version=2024-12-01-preview \"HTTP/1.1 200 OK\"\n"
     ]
    },
    {
     "name": "stderr",
     "output_type": "stream",
     "text": [
      "Processing URLs:  40%|█████████████████████████████████▏                                                | 98/242 [00:39<00:31,  4.56it/s]"
     ]
    },
    {
     "name": "stdout",
     "output_type": "stream",
     "text": [
      "15:36:10 - httpx - INFO - HTTP Request: POST https://ai-gpt-echo.openai.azure.com/openai/deployments/gpt-4.1/chat/completions?api-version=2024-12-01-preview \"HTTP/1.1 200 OK\"\n"
     ]
    },
    {
     "name": "stderr",
     "output_type": "stream",
     "text": [
      "Processing URLs:  41%|█████████████████████████████████▌                                                | 99/242 [00:39<00:30,  4.66it/s]"
     ]
    },
    {
     "name": "stdout",
     "output_type": "stream",
     "text": [
      "15:36:10 - httpx - INFO - HTTP Request: POST https://ai-gpt-echo.openai.azure.com/openai/deployments/gpt-4.1/chat/completions?api-version=2024-12-01-preview \"HTTP/1.1 200 OK\"\n"
     ]
    },
    {
     "name": "stderr",
     "output_type": "stream",
     "text": [
      "Processing URLs:  41%|█████████████████████████████████▍                                               | 100/242 [00:40<00:47,  2.96it/s]"
     ]
    },
    {
     "name": "stdout",
     "output_type": "stream",
     "text": [
      "15:36:11 - httpx - INFO - HTTP Request: POST https://ai-gpt-echo.openai.azure.com/openai/deployments/gpt-4.1/chat/completions?api-version=2024-12-01-preview \"HTTP/1.1 200 OK\"\n"
     ]
    },
    {
     "name": "stderr",
     "output_type": "stream",
     "text": [
      "Processing URLs:  42%|█████████████████████████████████▊                                               | 101/242 [00:40<00:53,  2.63it/s]"
     ]
    },
    {
     "name": "stdout",
     "output_type": "stream",
     "text": [
      "15:36:11 - httpx - INFO - HTTP Request: POST https://ai-gpt-echo.openai.azure.com/openai/deployments/gpt-4.1/chat/completions?api-version=2024-12-01-preview \"HTTP/1.1 200 OK\"\n"
     ]
    },
    {
     "name": "stderr",
     "output_type": "stream",
     "text": [
      "Processing URLs:  42%|██████████████████████████████████▏                                              | 102/242 [00:41<00:46,  2.98it/s]"
     ]
    },
    {
     "name": "stdout",
     "output_type": "stream",
     "text": [
      "15:36:11 - httpx - INFO - HTTP Request: POST https://ai-gpt-echo.openai.azure.com/openai/deployments/gpt-4.1/chat/completions?api-version=2024-12-01-preview \"HTTP/1.1 200 OK\"\n",
      "15:36:11 - httpx - INFO - HTTP Request: POST https://ai-gpt-echo.openai.azure.com/openai/deployments/gpt-4.1/chat/completions?api-version=2024-12-01-preview \"HTTP/1.1 200 OK\"\n"
     ]
    },
    {
     "name": "stderr",
     "output_type": "stream",
     "text": [
      "Processing URLs:  43%|██████████████████████████████████▊                                              | 104/242 [00:41<00:36,  3.83it/s]"
     ]
    },
    {
     "name": "stdout",
     "output_type": "stream",
     "text": [
      "15:36:12 - httpx - INFO - HTTP Request: POST https://ai-gpt-echo.openai.azure.com/openai/deployments/gpt-4.1/chat/completions?api-version=2024-12-01-preview \"HTTP/1.1 200 OK\"\n"
     ]
    },
    {
     "name": "stderr",
     "output_type": "stream",
     "text": [
      "Processing URLs:  43%|███████████████████████████████████▏                                             | 105/242 [00:41<00:37,  3.62it/s]"
     ]
    },
    {
     "name": "stdout",
     "output_type": "stream",
     "text": [
      "15:36:12 - httpx - INFO - HTTP Request: POST https://ai-gpt-echo.openai.azure.com/openai/deployments/gpt-4.1/chat/completions?api-version=2024-12-01-preview \"HTTP/1.1 200 OK\"\n",
      "15:36:13 - httpx - INFO - HTTP Request: POST https://ai-gpt-echo.openai.azure.com/openai/deployments/gpt-4.1/chat/completions?api-version=2024-12-01-preview \"HTTP/1.1 200 OK\"\n"
     ]
    },
    {
     "name": "stderr",
     "output_type": "stream",
     "text": [
      "Processing URLs:  44%|███████████████████████████████████▊                                             | 107/242 [00:43<00:57,  2.36it/s]"
     ]
    },
    {
     "name": "stdout",
     "output_type": "stream",
     "text": [
      "15:36:13 - httpx - INFO - HTTP Request: POST https://ai-gpt-echo.openai.azure.com/openai/deployments/gpt-4.1/chat/completions?api-version=2024-12-01-preview \"HTTP/1.1 200 OK\"\n",
      "15:36:13 - httpx - INFO - HTTP Request: POST https://ai-gpt-echo.openai.azure.com/openai/deployments/gpt-4.1/chat/completions?api-version=2024-12-01-preview \"HTTP/1.1 200 OK\"\n"
     ]
    },
    {
     "name": "stderr",
     "output_type": "stream",
     "text": [
      "Processing URLs:  45%|████████████████████████████████████▍                                            | 109/242 [00:43<00:39,  3.37it/s]"
     ]
    },
    {
     "name": "stdout",
     "output_type": "stream",
     "text": [
      "15:36:14 - httpx - INFO - HTTP Request: POST https://ai-gpt-echo.openai.azure.com/openai/deployments/gpt-4.1/chat/completions?api-version=2024-12-01-preview \"HTTP/1.1 200 OK\"\n"
     ]
    },
    {
     "name": "stderr",
     "output_type": "stream",
     "text": [
      "Processing URLs:  45%|████████████████████████████████████▊                                            | 110/242 [00:44<01:03,  2.09it/s]"
     ]
    },
    {
     "name": "stdout",
     "output_type": "stream",
     "text": [
      "15:36:14 - httpx - INFO - HTTP Request: POST https://ai-gpt-echo.openai.azure.com/openai/deployments/gpt-4.1/chat/completions?api-version=2024-12-01-preview \"HTTP/1.1 200 OK\"\n"
     ]
    },
    {
     "name": "stderr",
     "output_type": "stream",
     "text": [
      "Processing URLs:  46%|█████████████████████████████████████▏                                           | 111/242 [00:44<00:53,  2.46it/s]"
     ]
    },
    {
     "name": "stdout",
     "output_type": "stream",
     "text": [
      "15:36:15 - httpx - INFO - HTTP Request: POST https://ai-gpt-echo.openai.azure.com/openai/deployments/gpt-4.1/chat/completions?api-version=2024-12-01-preview \"HTTP/1.1 200 OK\"\n"
     ]
    },
    {
     "name": "stderr",
     "output_type": "stream",
     "text": [
      "Processing URLs:  46%|█████████████████████████████████████▍                                           | 112/242 [00:44<00:52,  2.47it/s]"
     ]
    },
    {
     "name": "stdout",
     "output_type": "stream",
     "text": [
      "15:36:15 - httpx - INFO - HTTP Request: POST https://ai-gpt-echo.openai.azure.com/openai/deployments/gpt-4.1/chat/completions?api-version=2024-12-01-preview \"HTTP/1.1 200 OK\"\n"
     ]
    },
    {
     "name": "stderr",
     "output_type": "stream",
     "text": [
      "Processing URLs:  47%|█████████████████████████████████████▊                                           | 113/242 [00:45<01:01,  2.11it/s]"
     ]
    },
    {
     "name": "stdout",
     "output_type": "stream",
     "text": [
      "15:36:15 - httpx - INFO - HTTP Request: POST https://ai-gpt-echo.openai.azure.com/openai/deployments/gpt-4.1/chat/completions?api-version=2024-12-01-preview \"HTTP/1.1 200 OK\"\n",
      "15:36:16 - httpx - INFO - HTTP Request: POST https://ai-gpt-echo.openai.azure.com/openai/deployments/gpt-4.1/chat/completions?api-version=2024-12-01-preview \"HTTP/1.1 200 OK\"\n",
      "15:36:16 - httpx - INFO - HTTP Request: POST https://ai-gpt-echo.openai.azure.com/openai/deployments/gpt-4.1/chat/completions?api-version=2024-12-01-preview \"HTTP/1.1 200 OK\"\n"
     ]
    },
    {
     "name": "stderr",
     "output_type": "stream",
     "text": [
      "Processing URLs:  48%|██████████████████████████████████████▍                                          | 115/242 [00:46<00:56,  2.24it/s]"
     ]
    },
    {
     "name": "stdout",
     "output_type": "stream",
     "text": [
      "15:36:17 - httpx - INFO - HTTP Request: POST https://ai-gpt-echo.openai.azure.com/openai/deployments/gpt-4.1/chat/completions?api-version=2024-12-01-preview \"HTTP/1.1 200 OK\"\n"
     ]
    },
    {
     "name": "stderr",
     "output_type": "stream",
     "text": [
      "Processing URLs:  48%|███████████████████████████████████████▏                                         | 117/242 [00:46<00:45,  2.77it/s]"
     ]
    },
    {
     "name": "stdout",
     "output_type": "stream",
     "text": [
      "15:36:17 - httpx - INFO - HTTP Request: POST https://ai-gpt-echo.openai.azure.com/openai/deployments/gpt-4.1/chat/completions?api-version=2024-12-01-preview \"HTTP/1.1 200 OK\"\n"
     ]
    },
    {
     "name": "stderr",
     "output_type": "stream",
     "text": [
      "Processing URLs:  49%|███████████████████████████████████████▍                                         | 118/242 [00:47<00:39,  3.15it/s]"
     ]
    },
    {
     "name": "stdout",
     "output_type": "stream",
     "text": [
      "15:36:17 - httpx - INFO - HTTP Request: POST https://ai-gpt-echo.openai.azure.com/openai/deployments/gpt-4.1/chat/completions?api-version=2024-12-01-preview \"HTTP/1.1 200 OK\"\n"
     ]
    },
    {
     "name": "stderr",
     "output_type": "stream",
     "text": [
      "Processing URLs:  49%|███████████████████████████████████████▊                                         | 119/242 [00:47<00:34,  3.58it/s]"
     ]
    },
    {
     "name": "stdout",
     "output_type": "stream",
     "text": [
      "15:36:17 - httpx - INFO - HTTP Request: POST https://ai-gpt-echo.openai.azure.com/openai/deployments/gpt-4.1/chat/completions?api-version=2024-12-01-preview \"HTTP/1.1 200 OK\"\n"
     ]
    },
    {
     "name": "stderr",
     "output_type": "stream",
     "text": [
      "Processing URLs:  50%|████████████████████████████████████████▏                                        | 120/242 [00:47<00:34,  3.50it/s]"
     ]
    },
    {
     "name": "stdout",
     "output_type": "stream",
     "text": [
      "15:36:17 - httpx - INFO - HTTP Request: POST https://ai-gpt-echo.openai.azure.com/openai/deployments/gpt-4.1/chat/completions?api-version=2024-12-01-preview \"HTTP/1.1 200 OK\"\n"
     ]
    },
    {
     "name": "stderr",
     "output_type": "stream",
     "text": [
      "Processing URLs:  50%|████████████████████████████████████████▌                                        | 121/242 [00:47<00:29,  4.07it/s]"
     ]
    },
    {
     "name": "stdout",
     "output_type": "stream",
     "text": [
      "15:36:18 - httpx - INFO - HTTP Request: POST https://ai-gpt-echo.openai.azure.com/openai/deployments/gpt-4.1/chat/completions?api-version=2024-12-01-preview \"HTTP/1.1 200 OK\"\n"
     ]
    },
    {
     "name": "stderr",
     "output_type": "stream",
     "text": [
      "Processing URLs:  50%|████████████████████████████████████████▊                                        | 122/242 [00:48<00:34,  3.48it/s]"
     ]
    },
    {
     "name": "stdout",
     "output_type": "stream",
     "text": [
      "15:36:18 - httpx - INFO - HTTP Request: POST https://ai-gpt-echo.openai.azure.com/openai/deployments/gpt-4.1/chat/completions?api-version=2024-12-01-preview \"HTTP/1.1 200 OK\"\n"
     ]
    },
    {
     "name": "stderr",
     "output_type": "stream",
     "text": [
      "Processing URLs:  51%|█████████████████████████████████████████▏                                       | 123/242 [00:48<00:39,  3.03it/s]"
     ]
    },
    {
     "name": "stdout",
     "output_type": "stream",
     "text": [
      "15:36:19 - httpx - INFO - HTTP Request: POST https://ai-gpt-echo.openai.azure.com/openai/deployments/gpt-4.1/chat/completions?api-version=2024-12-01-preview \"HTTP/1.1 200 OK\"\n"
     ]
    },
    {
     "name": "stderr",
     "output_type": "stream",
     "text": [
      "Processing URLs:  51%|█████████████████████████████████████████▌                                       | 124/242 [00:48<00:38,  3.05it/s]"
     ]
    },
    {
     "name": "stdout",
     "output_type": "stream",
     "text": [
      "15:36:19 - httpx - INFO - HTTP Request: POST https://ai-gpt-echo.openai.azure.com/openai/deployments/gpt-4.1/chat/completions?api-version=2024-12-01-preview \"HTTP/1.1 200 OK\"\n"
     ]
    },
    {
     "name": "stderr",
     "output_type": "stream",
     "text": [
      "Processing URLs:  52%|█████████████████████████████████████████▊                                       | 125/242 [00:49<00:47,  2.48it/s]"
     ]
    },
    {
     "name": "stdout",
     "output_type": "stream",
     "text": [
      "15:36:19 - httpx - INFO - HTTP Request: POST https://ai-gpt-echo.openai.azure.com/openai/deployments/gpt-4.1/chat/completions?api-version=2024-12-01-preview \"HTTP/1.1 200 OK\"\n"
     ]
    },
    {
     "name": "stderr",
     "output_type": "stream",
     "text": [
      "Processing URLs:  52%|██████████████████████████████████████████▏                                      | 126/242 [00:49<00:42,  2.71it/s]"
     ]
    },
    {
     "name": "stdout",
     "output_type": "stream",
     "text": [
      "15:36:20 - httpx - INFO - HTTP Request: POST https://ai-gpt-echo.openai.azure.com/openai/deployments/gpt-4.1/chat/completions?api-version=2024-12-01-preview \"HTTP/1.1 200 OK\"\n"
     ]
    },
    {
     "name": "stderr",
     "output_type": "stream",
     "text": [
      "Processing URLs:  52%|██████████████████████████████████████████▌                                      | 127/242 [00:50<00:46,  2.49it/s]"
     ]
    },
    {
     "name": "stdout",
     "output_type": "stream",
     "text": [
      "15:36:20 - httpx - INFO - HTTP Request: POST https://ai-gpt-echo.openai.azure.com/openai/deployments/gpt-4.1/chat/completions?api-version=2024-12-01-preview \"HTTP/1.1 200 OK\"\n"
     ]
    },
    {
     "name": "stderr",
     "output_type": "stream",
     "text": [
      "Processing URLs:  53%|██████████████████████████████████████████▊                                      | 128/242 [00:50<00:40,  2.83it/s]"
     ]
    },
    {
     "name": "stdout",
     "output_type": "stream",
     "text": [
      "15:36:20 - httpx - INFO - HTTP Request: POST https://ai-gpt-echo.openai.azure.com/openai/deployments/gpt-4.1/chat/completions?api-version=2024-12-01-preview \"HTTP/1.1 200 OK\"\n"
     ]
    },
    {
     "name": "stderr",
     "output_type": "stream",
     "text": [
      "Processing URLs:  53%|███████████████████████████████████████████▏                                     | 129/242 [00:50<00:34,  3.23it/s]"
     ]
    },
    {
     "name": "stdout",
     "output_type": "stream",
     "text": [
      "15:36:21 - httpx - INFO - HTTP Request: POST https://ai-gpt-echo.openai.azure.com/openai/deployments/gpt-4.1/chat/completions?api-version=2024-12-01-preview \"HTTP/1.1 200 OK\"\n"
     ]
    },
    {
     "name": "stderr",
     "output_type": "stream",
     "text": [
      "Processing URLs:  54%|███████████████████████████████████████████▌                                     | 130/242 [00:50<00:33,  3.36it/s]"
     ]
    },
    {
     "name": "stdout",
     "output_type": "stream",
     "text": [
      "15:36:21 - httpx - INFO - HTTP Request: POST https://ai-gpt-echo.openai.azure.com/openai/deployments/gpt-4.1/chat/completions?api-version=2024-12-01-preview \"HTTP/1.1 200 OK\"\n"
     ]
    },
    {
     "name": "stderr",
     "output_type": "stream",
     "text": [
      "Processing URLs:  54%|███████████████████████████████████████████▊                                     | 131/242 [00:51<00:42,  2.63it/s]"
     ]
    },
    {
     "name": "stdout",
     "output_type": "stream",
     "text": [
      "15:36:21 - httpx - INFO - HTTP Request: POST https://ai-gpt-echo.openai.azure.com/openai/deployments/gpt-4.1/chat/completions?api-version=2024-12-01-preview \"HTTP/1.1 200 OK\"\n",
      "15:36:21 - httpx - INFO - HTTP Request: POST https://ai-gpt-echo.openai.azure.com/openai/deployments/gpt-4.1/chat/completions?api-version=2024-12-01-preview \"HTTP/1.1 200 OK\"\n"
     ]
    },
    {
     "name": "stderr",
     "output_type": "stream",
     "text": [
      "Processing URLs:  55%|████████████████████████████████████████████▌                                    | 133/242 [00:51<00:26,  4.11it/s]"
     ]
    },
    {
     "name": "stdout",
     "output_type": "stream",
     "text": [
      "15:36:21 - httpx - INFO - HTTP Request: POST https://ai-gpt-echo.openai.azure.com/openai/deployments/gpt-4.1/chat/completions?api-version=2024-12-01-preview \"HTTP/1.1 200 OK\"\n",
      "15:36:22 - httpx - INFO - HTTP Request: POST https://ai-gpt-echo.openai.azure.com/openai/deployments/gpt-4.1/chat/completions?api-version=2024-12-01-preview \"HTTP/1.1 200 OK\"\n"
     ]
    },
    {
     "name": "stderr",
     "output_type": "stream",
     "text": [
      "Processing URLs:  56%|█████████████████████████████████████████████▏                                   | 135/242 [00:52<00:24,  4.29it/s]"
     ]
    },
    {
     "name": "stdout",
     "output_type": "stream",
     "text": [
      "15:36:22 - httpx - INFO - HTTP Request: POST https://ai-gpt-echo.openai.azure.com/openai/deployments/gpt-4.1/chat/completions?api-version=2024-12-01-preview \"HTTP/1.1 200 OK\"\n",
      "15:36:22 - httpx - INFO - HTTP Request: POST https://ai-gpt-echo.openai.azure.com/openai/deployments/gpt-4.1/chat/completions?api-version=2024-12-01-preview \"HTTP/1.1 200 OK\"\n",
      "15:36:22 - httpx - INFO - HTTP Request: POST https://ai-gpt-echo.openai.azure.com/openai/deployments/gpt-4.1/chat/completions?api-version=2024-12-01-preview \"HTTP/1.1 200 OK\"\n"
     ]
    },
    {
     "name": "stderr",
     "output_type": "stream",
     "text": [
      "Processing URLs:  57%|██████████████████████████████████████████████▏                                  | 138/242 [00:52<00:20,  5.16it/s]"
     ]
    },
    {
     "name": "stdout",
     "output_type": "stream",
     "text": [
      "15:36:23 - httpx - INFO - HTTP Request: POST https://ai-gpt-echo.openai.azure.com/openai/deployments/gpt-4.1/chat/completions?api-version=2024-12-01-preview \"HTTP/1.1 200 OK\"\n",
      "15:36:23 - httpx - INFO - HTTP Request: POST https://ai-gpt-echo.openai.azure.com/openai/deployments/gpt-4.1/chat/completions?api-version=2024-12-01-preview \"HTTP/1.1 200 OK\"\n",
      "15:36:23 - httpx - INFO - HTTP Request: POST https://ai-gpt-echo.openai.azure.com/openai/deployments/gpt-4.1/chat/completions?api-version=2024-12-01-preview \"HTTP/1.1 200 OK\"\n",
      "15:36:23 - httpx - INFO - HTTP Request: POST https://ai-gpt-echo.openai.azure.com/openai/deployments/gpt-4.1/chat/completions?api-version=2024-12-01-preview \"HTTP/1.1 200 OK\"\n"
     ]
    },
    {
     "name": "stderr",
     "output_type": "stream",
     "text": [
      "Processing URLs:  57%|██████████████████████████████████████████████▌                                  | 139/242 [00:53<00:33,  3.09it/s]"
     ]
    },
    {
     "name": "stdout",
     "output_type": "stream",
     "text": [
      "15:36:23 - httpx - INFO - HTTP Request: POST https://ai-gpt-echo.openai.azure.com/openai/deployments/gpt-4.1/chat/completions?api-version=2024-12-01-preview \"HTTP/1.1 200 OK\"\n",
      "15:36:25 - httpx - INFO - HTTP Request: POST https://ai-gpt-echo.openai.azure.com/openai/deployments/gpt-4.1/chat/completions?api-version=2024-12-01-preview \"HTTP/1.1 200 OK\"\n"
     ]
    },
    {
     "name": "stderr",
     "output_type": "stream",
     "text": [
      "Processing URLs:  60%|████████████████████████████████████████████████▏                                | 144/242 [00:55<00:33,  2.91it/s]"
     ]
    },
    {
     "name": "stdout",
     "output_type": "stream",
     "text": [
      "15:36:25 - httpx - INFO - HTTP Request: POST https://ai-gpt-echo.openai.azure.com/openai/deployments/gpt-4.1/chat/completions?api-version=2024-12-01-preview \"HTTP/1.1 200 OK\"\n",
      "15:36:26 - httpx - INFO - HTTP Request: POST https://ai-gpt-echo.openai.azure.com/openai/deployments/gpt-4.1/chat/completions?api-version=2024-12-01-preview \"HTTP/1.1 200 OK\"\n"
     ]
    },
    {
     "name": "stderr",
     "output_type": "stream",
     "text": [
      "Processing URLs:  60%|████████████████████████████████████████████████▊                                | 146/242 [00:55<00:31,  3.02it/s]"
     ]
    },
    {
     "name": "stdout",
     "output_type": "stream",
     "text": [
      "15:36:26 - httpx - INFO - HTTP Request: POST https://ai-gpt-echo.openai.azure.com/openai/deployments/gpt-4.1/chat/completions?api-version=2024-12-01-preview \"HTTP/1.1 200 OK\"\n"
     ]
    },
    {
     "name": "stderr",
     "output_type": "stream",
     "text": [
      "Processing URLs:  61%|█████████████████████████████████████████████████▏                               | 147/242 [00:55<00:29,  3.23it/s]"
     ]
    },
    {
     "name": "stdout",
     "output_type": "stream",
     "text": [
      "15:36:26 - httpx - INFO - HTTP Request: POST https://ai-gpt-echo.openai.azure.com/openai/deployments/gpt-4.1/chat/completions?api-version=2024-12-01-preview \"HTTP/1.1 200 OK\"\n",
      "15:36:26 - httpx - INFO - HTTP Request: POST https://ai-gpt-echo.openai.azure.com/openai/deployments/gpt-4.1/chat/completions?api-version=2024-12-01-preview \"HTTP/1.1 200 OK\"\n"
     ]
    },
    {
     "name": "stderr",
     "output_type": "stream",
     "text": [
      "Processing URLs:  62%|█████████████████████████████████████████████████▊                               | 149/242 [00:56<00:25,  3.70it/s]"
     ]
    },
    {
     "name": "stdout",
     "output_type": "stream",
     "text": [
      "15:36:26 - httpx - INFO - HTTP Request: POST https://ai-gpt-echo.openai.azure.com/openai/deployments/gpt-4.1/chat/completions?api-version=2024-12-01-preview \"HTTP/1.1 200 OK\"\n"
     ]
    },
    {
     "name": "stderr",
     "output_type": "stream",
     "text": [
      "Processing URLs:  62%|██████████████████████████████████████████████████▏                              | 150/242 [00:56<00:25,  3.63it/s]"
     ]
    },
    {
     "name": "stdout",
     "output_type": "stream",
     "text": [
      "15:36:26 - httpx - INFO - HTTP Request: POST https://ai-gpt-echo.openai.azure.com/openai/deployments/gpt-4.1/chat/completions?api-version=2024-12-01-preview \"HTTP/1.1 200 OK\"\n",
      "15:36:27 - httpx - INFO - HTTP Request: POST https://ai-gpt-echo.openai.azure.com/openai/deployments/gpt-4.1/chat/completions?api-version=2024-12-01-preview \"HTTP/1.1 200 OK\"\n"
     ]
    },
    {
     "name": "stderr",
     "output_type": "stream",
     "text": [
      "Processing URLs:  63%|██████████████████████████████████████████████████▉                              | 152/242 [00:56<00:20,  4.36it/s]"
     ]
    },
    {
     "name": "stdout",
     "output_type": "stream",
     "text": [
      "15:36:27 - httpx - INFO - HTTP Request: POST https://ai-gpt-echo.openai.azure.com/openai/deployments/gpt-4.1/chat/completions?api-version=2024-12-01-preview \"HTTP/1.1 200 OK\"\n"
     ]
    },
    {
     "name": "stderr",
     "output_type": "stream",
     "text": [
      "Processing URLs:  63%|███████████████████████████████████████████████████▏                             | 153/242 [00:57<00:25,  3.52it/s]"
     ]
    },
    {
     "name": "stdout",
     "output_type": "stream",
     "text": [
      "15:36:28 - httpx - INFO - HTTP Request: POST https://ai-gpt-echo.openai.azure.com/openai/deployments/gpt-4.1/chat/completions?api-version=2024-12-01-preview \"HTTP/1.1 200 OK\"\n"
     ]
    },
    {
     "name": "stderr",
     "output_type": "stream",
     "text": [
      "Processing URLs:  64%|███████████████████████████████████████████████████▌                             | 154/242 [00:58<00:39,  2.24it/s]"
     ]
    },
    {
     "name": "stdout",
     "output_type": "stream",
     "text": [
      "15:36:28 - httpx - INFO - HTTP Request: POST https://ai-gpt-echo.openai.azure.com/openai/deployments/gpt-4.1/chat/completions?api-version=2024-12-01-preview \"HTTP/1.1 200 OK\"\n"
     ]
    },
    {
     "name": "stderr",
     "output_type": "stream",
     "text": [
      "Processing URLs:  64%|███████████████████████████████████████████████████▉                             | 155/242 [00:58<00:32,  2.71it/s]"
     ]
    },
    {
     "name": "stdout",
     "output_type": "stream",
     "text": [
      "15:36:29 - httpx - INFO - HTTP Request: POST https://ai-gpt-echo.openai.azure.com/openai/deployments/gpt-4.1/chat/completions?api-version=2024-12-01-preview \"HTTP/1.1 200 OK\"\n",
      "15:36:29 - httpx - INFO - HTTP Request: POST https://ai-gpt-echo.openai.azure.com/openai/deployments/gpt-4.1/chat/completions?api-version=2024-12-01-preview \"HTTP/1.1 200 OK\"\n"
     ]
    },
    {
     "name": "stderr",
     "output_type": "stream",
     "text": [
      "Processing URLs:  64%|████████████████████████████████████████████████████▏                            | 156/242 [00:58<00:32,  2.65it/s]"
     ]
    },
    {
     "name": "stdout",
     "output_type": "stream",
     "text": [
      "15:36:29 - httpx - INFO - HTTP Request: POST https://ai-gpt-echo.openai.azure.com/openai/deployments/gpt-4.1/chat/completions?api-version=2024-12-01-preview \"HTTP/1.1 200 OK\"\n"
     ]
    },
    {
     "name": "stderr",
     "output_type": "stream",
     "text": [
      "Processing URLs:  65%|████████████████████████████████████████████████████▉                            | 158/242 [00:59<00:22,  3.66it/s]"
     ]
    },
    {
     "name": "stdout",
     "output_type": "stream",
     "text": [
      "15:36:29 - httpx - INFO - HTTP Request: POST https://ai-gpt-echo.openai.azure.com/openai/deployments/gpt-4.1/chat/completions?api-version=2024-12-01-preview \"HTTP/1.1 200 OK\"\n"
     ]
    },
    {
     "name": "stderr",
     "output_type": "stream",
     "text": [
      "Processing URLs:  66%|█████████████████████████████████████████████████████▏                           | 159/242 [00:59<00:23,  3.53it/s]"
     ]
    },
    {
     "name": "stdout",
     "output_type": "stream",
     "text": [
      "15:36:29 - httpx - INFO - HTTP Request: POST https://ai-gpt-echo.openai.azure.com/openai/deployments/gpt-4.1/chat/completions?api-version=2024-12-01-preview \"HTTP/1.1 200 OK\"\n"
     ]
    },
    {
     "name": "stderr",
     "output_type": "stream",
     "text": [
      "Processing URLs:  66%|█████████████████████████████████████████████████████▌                           | 160/242 [00:59<00:19,  4.15it/s]"
     ]
    },
    {
     "name": "stdout",
     "output_type": "stream",
     "text": [
      "15:36:30 - httpx - INFO - HTTP Request: POST https://ai-gpt-echo.openai.azure.com/openai/deployments/gpt-4.1/chat/completions?api-version=2024-12-01-preview \"HTTP/1.1 200 OK\"\n"
     ]
    },
    {
     "name": "stderr",
     "output_type": "stream",
     "text": [
      "Processing URLs:  67%|█████████████████████████████████████████████████████▉                           | 161/242 [00:59<00:16,  4.79it/s]"
     ]
    },
    {
     "name": "stdout",
     "output_type": "stream",
     "text": [
      "15:36:30 - httpx - INFO - HTTP Request: POST https://ai-gpt-echo.openai.azure.com/openai/deployments/gpt-4.1/chat/completions?api-version=2024-12-01-preview \"HTTP/1.1 200 OK\"\n"
     ]
    },
    {
     "name": "stderr",
     "output_type": "stream",
     "text": [
      "Processing URLs:  67%|██████████████████████████████████████████████████████▏                          | 162/242 [00:59<00:15,  5.29it/s]"
     ]
    },
    {
     "name": "stdout",
     "output_type": "stream",
     "text": [
      "15:36:30 - httpx - INFO - HTTP Request: POST https://ai-gpt-echo.openai.azure.com/openai/deployments/gpt-4.1/chat/completions?api-version=2024-12-01-preview \"HTTP/1.1 200 OK\"\n"
     ]
    },
    {
     "name": "stderr",
     "output_type": "stream",
     "text": [
      "Processing URLs:  67%|██████████████████████████████████████████████████████▌                          | 163/242 [01:00<00:15,  5.06it/s]"
     ]
    },
    {
     "name": "stdout",
     "output_type": "stream",
     "text": [
      "15:36:31 - httpx - INFO - HTTP Request: POST https://ai-gpt-echo.openai.azure.com/openai/deployments/gpt-4.1/chat/completions?api-version=2024-12-01-preview \"HTTP/1.1 400 Bad Request\"\n",
      "15:36:31 - agents.improved_content_extraction_agent - ERROR - Error in AI analysis for https://www.msn.com/en-in/money/markets/stocks-to-watch-today-on-july-25-adani-enterprises-rec-bel-wipro-sun-pharma-and-more/ar-AA1Jfx6u: Error code: 400 - {'error': {'message': \"The response was filtered due to the prompt triggering Azure OpenAI's content management policy. Please modify your prompt and retry. To learn more about our content filtering policies please read our documentation: https://go.microsoft.com/fwlink/?linkid=2198766\", 'type': None, 'param': 'prompt', 'code': 'content_filter', 'status': 400, 'innererror': {'code': 'ResponsibleAIPolicyViolation', 'content_filter_result': {'hate': {'filtered': False, 'severity': 'safe'}, 'jailbreak': {'filtered': True, 'detected': True}, 'self_harm': {'filtered': False, 'severity': 'safe'}, 'sexual': {'filtered': False, 'severity': 'safe'}, 'violence': {'filtered': False, 'severity': 'safe'}}}}}\n"
     ]
    },
    {
     "name": "stderr",
     "output_type": "stream",
     "text": [
      "Processing URLs:  68%|██████████████████████████████████████████████████████▉                          | 164/242 [01:01<00:35,  2.19it/s]"
     ]
    },
    {
     "name": "stdout",
     "output_type": "stream",
     "text": [
      "15:36:32 - httpx - INFO - HTTP Request: POST https://ai-gpt-echo.openai.azure.com/openai/deployments/gpt-4.1/chat/completions?api-version=2024-12-01-preview \"HTTP/1.1 200 OK\"\n",
      "15:36:32 - httpx - INFO - HTTP Request: POST https://ai-gpt-echo.openai.azure.com/openai/deployments/gpt-4.1/chat/completions?api-version=2024-12-01-preview \"HTTP/1.1 200 OK\"\n"
     ]
    },
    {
     "name": "stderr",
     "output_type": "stream",
     "text": [
      "Processing URLs:  68%|███████████████████████████████████████████████████████▏                         | 165/242 [01:02<00:43,  1.75it/s]"
     ]
    },
    {
     "name": "stdout",
     "output_type": "stream",
     "text": [
      "15:36:33 - httpx - INFO - HTTP Request: POST https://ai-gpt-echo.openai.azure.com/openai/deployments/gpt-4.1/chat/completions?api-version=2024-12-01-preview \"HTTP/1.1 200 OK\"\n"
     ]
    },
    {
     "name": "stderr",
     "output_type": "stream",
     "text": [
      "Processing URLs:  69%|███████████████████████████████████████████████████████▉                         | 167/242 [01:02<00:38,  1.97it/s]"
     ]
    },
    {
     "name": "stdout",
     "output_type": "stream",
     "text": [
      "15:36:33 - httpx - INFO - HTTP Request: POST https://ai-gpt-echo.openai.azure.com/openai/deployments/gpt-4.1/chat/completions?api-version=2024-12-01-preview \"HTTP/1.1 200 OK\"\n"
     ]
    },
    {
     "name": "stderr",
     "output_type": "stream",
     "text": [
      "Processing URLs:  69%|████████████████████████████████████████████████████████▏                        | 168/242 [01:03<00:34,  2.18it/s]"
     ]
    },
    {
     "name": "stdout",
     "output_type": "stream",
     "text": [
      "15:36:33 - httpx - INFO - HTTP Request: POST https://ai-gpt-echo.openai.azure.com/openai/deployments/gpt-4.1/chat/completions?api-version=2024-12-01-preview \"HTTP/1.1 200 OK\"\n",
      "15:36:33 - httpx - INFO - HTTP Request: POST https://ai-gpt-echo.openai.azure.com/openai/deployments/gpt-4.1/chat/completions?api-version=2024-12-01-preview \"HTTP/1.1 200 OK\"\n"
     ]
    },
    {
     "name": "stderr",
     "output_type": "stream",
     "text": [
      "Processing URLs:  70%|████████████████████████████████████████████████████████▉                        | 170/242 [01:03<00:25,  2.83it/s]"
     ]
    },
    {
     "name": "stdout",
     "output_type": "stream",
     "text": [
      "15:36:34 - httpx - INFO - HTTP Request: POST https://ai-gpt-echo.openai.azure.com/openai/deployments/gpt-4.1/chat/completions?api-version=2024-12-01-preview \"HTTP/1.1 200 OK\"\n",
      "15:36:34 - httpx - INFO - HTTP Request: POST https://ai-gpt-echo.openai.azure.com/openai/deployments/gpt-4.1/chat/completions?api-version=2024-12-01-preview \"HTTP/1.1 200 OK\"\n"
     ]
    },
    {
     "name": "stderr",
     "output_type": "stream",
     "text": [
      "Processing URLs:  71%|█████████████████████████████████████████████████████████▏                       | 171/242 [01:03<00:22,  3.15it/s]"
     ]
    },
    {
     "name": "stdout",
     "output_type": "stream",
     "text": [
      "15:36:34 - httpx - INFO - HTTP Request: POST https://ai-gpt-echo.openai.azure.com/openai/deployments/gpt-4.1/chat/completions?api-version=2024-12-01-preview \"HTTP/1.1 200 OK\"\n",
      "15:36:34 - httpx - INFO - HTTP Request: POST https://ai-gpt-echo.openai.azure.com/openai/deployments/gpt-4.1/chat/completions?api-version=2024-12-01-preview \"HTTP/1.1 200 OK\"\n",
      "15:36:34 - httpx - INFO - HTTP Request: POST https://ai-gpt-echo.openai.azure.com/openai/deployments/gpt-4.1/chat/completions?api-version=2024-12-01-preview \"HTTP/1.1 200 OK\"\n"
     ]
    },
    {
     "name": "stderr",
     "output_type": "stream",
     "text": [
      "Processing URLs:  72%|██████████████████████████████████████████████████████████▌                      | 175/242 [01:04<00:14,  4.77it/s]"
     ]
    },
    {
     "name": "stdout",
     "output_type": "stream",
     "text": [
      "15:36:34 - httpx - INFO - HTTP Request: POST https://ai-gpt-echo.openai.azure.com/openai/deployments/gpt-4.1/chat/completions?api-version=2024-12-01-preview \"HTTP/1.1 200 OK\"\n"
     ]
    },
    {
     "name": "stderr",
     "output_type": "stream",
     "text": [
      "Processing URLs:  73%|██████████████████████████████████████████████████████████▉                      | 176/242 [01:04<00:13,  4.75it/s]"
     ]
    },
    {
     "name": "stdout",
     "output_type": "stream",
     "text": [
      "15:36:35 - httpx - INFO - HTTP Request: POST https://ai-gpt-echo.openai.azure.com/openai/deployments/gpt-4.1/chat/completions?api-version=2024-12-01-preview \"HTTP/1.1 200 OK\"\n"
     ]
    },
    {
     "name": "stderr",
     "output_type": "stream",
     "text": [
      "Processing URLs:  73%|███████████████████████████████████████████████████████████▏                     | 177/242 [01:04<00:14,  4.63it/s]"
     ]
    },
    {
     "name": "stdout",
     "output_type": "stream",
     "text": [
      "15:36:35 - httpx - INFO - HTTP Request: POST https://ai-gpt-echo.openai.azure.com/openai/deployments/gpt-4.1/chat/completions?api-version=2024-12-01-preview \"HTTP/1.1 200 OK\"\n",
      "15:36:35 - httpx - INFO - HTTP Request: POST https://ai-gpt-echo.openai.azure.com/openai/deployments/gpt-4.1/chat/completions?api-version=2024-12-01-preview \"HTTP/1.1 200 OK\"\n",
      "15:36:36 - agents.improved_content_extraction_agent - ERROR - Error in AI analysis for https://www.moneycontrol.com/news/business/blackrock-citadel-in-talks-with-gautam-adani-for-its-750-million-debt-report-12955560.html: Invalid json output: {\n",
      "  \"metadata\": {\n",
      "    \"has_fraud\": false,\n",
      "    \"has_litigation\": false,\n",
      "    \"has_insolvency\": false,\n",
      "    \"has_regulatory_action\": false,\n",
      "    \"risk_explanation\": null,\n",
      "    \"risk_snippet\": null,\n",
      "    \"priority_level\": null,\n",
      "    \"risk_category\": \"Other\",\n",
      "    \"confidence_score\": 0.0,\n",
      "    \"event_timeline\": null,\n",
      "    \"is_subsadariy_parent_company\": true,\n",
      "    \"is_subsadariy_parent_company_reason\": \"The article discusses a $750 million debt refinancing for Adani Airport Holdings, which is a wholly-owned subsidiary of Adani Enterprises. The refinancing and related financial activities at the parent and subsidiary level are directly linked and impact Adani Enterprises.\",\n",
      "  },\n",
      "  \"published_date\": \"2025-03-04\",\n",
      "  \"author\": \"Moneycontrol News\",\n",
      "  \"keywords\": [\n",
      "    \"debt refinancing\",\n",
      "    \"Adani Enterprises\",\n",
      "    \"Adani Airport Holdings\",\n",
      "    \"BlackRock\",\n",
      "    \"Citadel\",\n",
      "    \"funding\"\n",
      "  ],\n",
      "  \"is_filter\": false,\n",
      "  \"is_filter_reason\": null,\n",
      "  \"is_adverse\": \"Neutral\",\n",
      "  \"is_adverse_reason\": \"The article reports on potential refinancing talks for Adani Airport Holdings' $750 million debt, with no indication of financial distress, default, or negative outcome. The tone is informational and does not suggest any adverse event for Adani Enterprises.\"\n",
      "}\n",
      "For troubleshooting, visit: https://python.langchain.com/docs/troubleshooting/errors/OUTPUT_PARSING_FAILURE \n"
     ]
    },
    {
     "name": "stderr",
     "output_type": "stream",
     "text": [
      "Processing URLs:  74%|███████████████████████████████████████████████████████████▉                     | 179/242 [01:05<00:20,  3.14it/s]"
     ]
    },
    {
     "name": "stdout",
     "output_type": "stream",
     "text": [
      "15:36:36 - httpx - INFO - HTTP Request: POST https://ai-gpt-echo.openai.azure.com/openai/deployments/gpt-4.1/chat/completions?api-version=2024-12-01-preview \"HTTP/1.1 200 OK\"\n"
     ]
    },
    {
     "name": "stderr",
     "output_type": "stream",
     "text": [
      "Processing URLs:  74%|████████████████████████████████████████████████████████████▏                    | 180/242 [01:05<00:17,  3.55it/s]"
     ]
    },
    {
     "name": "stdout",
     "output_type": "stream",
     "text": [
      "15:36:36 - httpx - INFO - HTTP Request: POST https://ai-gpt-echo.openai.azure.com/openai/deployments/gpt-4.1/chat/completions?api-version=2024-12-01-preview \"HTTP/1.1 200 OK\"\n"
     ]
    },
    {
     "name": "stderr",
     "output_type": "stream",
     "text": [
      "Processing URLs:  75%|████████████████████████████████████████████████████████████▌                    | 181/242 [01:06<00:19,  3.09it/s]"
     ]
    },
    {
     "name": "stdout",
     "output_type": "stream",
     "text": [
      "15:36:36 - httpx - INFO - HTTP Request: POST https://ai-gpt-echo.openai.azure.com/openai/deployments/gpt-4.1/chat/completions?api-version=2024-12-01-preview \"HTTP/1.1 200 OK\"\n"
     ]
    },
    {
     "name": "stderr",
     "output_type": "stream",
     "text": [
      "Processing URLs:  75%|████████████████████████████████████████████████████████████▉                    | 182/242 [01:06<00:16,  3.63it/s]"
     ]
    },
    {
     "name": "stdout",
     "output_type": "stream",
     "text": [
      "15:36:36 - httpx - INFO - HTTP Request: POST https://ai-gpt-echo.openai.azure.com/openai/deployments/gpt-4.1/chat/completions?api-version=2024-12-01-preview \"HTTP/1.1 200 OK\"\n"
     ]
    },
    {
     "name": "stderr",
     "output_type": "stream",
     "text": [
      "Processing URLs:  76%|█████████████████████████████████████████████████████████████▎                   | 183/242 [01:06<00:13,  4.33it/s]"
     ]
    },
    {
     "name": "stdout",
     "output_type": "stream",
     "text": [
      "15:36:37 - httpx - INFO - HTTP Request: POST https://ai-gpt-echo.openai.azure.com/openai/deployments/gpt-4.1/chat/completions?api-version=2024-12-01-preview \"HTTP/1.1 200 OK\"\n"
     ]
    },
    {
     "name": "stderr",
     "output_type": "stream",
     "text": [
      "Processing URLs:  76%|█████████████████████████████████████████████████████████████▌                   | 184/242 [01:06<00:11,  4.86it/s]"
     ]
    },
    {
     "name": "stdout",
     "output_type": "stream",
     "text": [
      "15:36:38 - httpx - INFO - HTTP Request: POST https://ai-gpt-echo.openai.azure.com/openai/deployments/gpt-4.1/chat/completions?api-version=2024-12-01-preview \"HTTP/1.1 200 OK\"\n"
     ]
    },
    {
     "name": "stderr",
     "output_type": "stream",
     "text": [
      "Processing URLs:  76%|█████████████████████████████████████████████████████████████▉                   | 185/242 [01:08<00:31,  1.79it/s]"
     ]
    },
    {
     "name": "stdout",
     "output_type": "stream",
     "text": [
      "15:36:38 - httpx - INFO - HTTP Request: POST https://ai-gpt-echo.openai.azure.com/openai/deployments/gpt-4.1/chat/completions?api-version=2024-12-01-preview \"HTTP/1.1 200 OK\"\n",
      "15:36:38 - httpx - INFO - HTTP Request: POST https://ai-gpt-echo.openai.azure.com/openai/deployments/gpt-4.1/chat/completions?api-version=2024-12-01-preview \"HTTP/1.1 200 OK\"\n"
     ]
    },
    {
     "name": "stderr",
     "output_type": "stream",
     "text": [
      "Processing URLs:  77%|██████████████████████████████████████████████████████████████▌                  | 187/242 [01:08<00:19,  2.76it/s]"
     ]
    },
    {
     "name": "stdout",
     "output_type": "stream",
     "text": [
      "15:36:39 - httpx - INFO - HTTP Request: POST https://ai-gpt-echo.openai.azure.com/openai/deployments/gpt-4.1/chat/completions?api-version=2024-12-01-preview \"HTTP/1.1 200 OK\"\n",
      "15:36:39 - httpx - INFO - HTTP Request: POST https://ai-gpt-echo.openai.azure.com/openai/deployments/gpt-4.1/chat/completions?api-version=2024-12-01-preview \"HTTP/1.1 200 OK\"\n"
     ]
    },
    {
     "name": "stderr",
     "output_type": "stream",
     "text": [
      "Processing URLs:  78%|██████████████████████████████████████████████████████████████▉                  | 188/242 [01:09<00:23,  2.28it/s]"
     ]
    },
    {
     "name": "stdout",
     "output_type": "stream",
     "text": [
      "15:36:39 - httpx - INFO - HTTP Request: POST https://ai-gpt-echo.openai.azure.com/openai/deployments/gpt-4.1/chat/completions?api-version=2024-12-01-preview \"HTTP/1.1 200 OK\"\n"
     ]
    },
    {
     "name": "stderr",
     "output_type": "stream",
     "text": [
      "Processing URLs:  79%|███████████████████████████████████████████████████████████████▌                 | 190/242 [01:09<00:15,  3.27it/s]"
     ]
    },
    {
     "name": "stdout",
     "output_type": "stream",
     "text": [
      "15:36:40 - httpx - INFO - HTTP Request: POST https://ai-gpt-echo.openai.azure.com/openai/deployments/gpt-4.1/chat/completions?api-version=2024-12-01-preview \"HTTP/1.1 200 OK\"\n"
     ]
    },
    {
     "name": "stderr",
     "output_type": "stream",
     "text": [
      "Processing URLs:  79%|███████████████████████████████████████████████████████████████▉                 | 191/242 [01:09<00:16,  3.07it/s]"
     ]
    },
    {
     "name": "stdout",
     "output_type": "stream",
     "text": [
      "15:36:40 - httpx - INFO - HTTP Request: POST https://ai-gpt-echo.openai.azure.com/openai/deployments/gpt-4.1/chat/completions?api-version=2024-12-01-preview \"HTTP/1.1 200 OK\"\n"
     ]
    },
    {
     "name": "stderr",
     "output_type": "stream",
     "text": [
      "Processing URLs:  79%|████████████████████████████████████████████████████████████████▎                | 192/242 [01:10<00:15,  3.27it/s]"
     ]
    },
    {
     "name": "stdout",
     "output_type": "stream",
     "text": [
      "15:36:40 - httpx - INFO - HTTP Request: POST https://ai-gpt-echo.openai.azure.com/openai/deployments/gpt-4.1/chat/completions?api-version=2024-12-01-preview \"HTTP/1.1 200 OK\"\n",
      "15:36:40 - httpx - INFO - HTTP Request: POST https://ai-gpt-echo.openai.azure.com/openai/deployments/gpt-4.1/chat/completions?api-version=2024-12-01-preview \"HTTP/1.1 200 OK\"\n"
     ]
    },
    {
     "name": "stderr",
     "output_type": "stream",
     "text": [
      "Processing URLs:  80%|████████████████████████████████████████████████████████████████▉                | 194/242 [01:10<00:10,  4.78it/s]"
     ]
    },
    {
     "name": "stdout",
     "output_type": "stream",
     "text": [
      "15:36:40 - httpx - INFO - HTTP Request: POST https://ai-gpt-echo.openai.azure.com/openai/deployments/gpt-4.1/chat/completions?api-version=2024-12-01-preview \"HTTP/1.1 200 OK\"\n",
      "15:36:40 - httpx - INFO - HTTP Request: POST https://ai-gpt-echo.openai.azure.com/openai/deployments/gpt-4.1/chat/completions?api-version=2024-12-01-preview \"HTTP/1.1 200 OK\"\n"
     ]
    },
    {
     "name": "stderr",
     "output_type": "stream",
     "text": [
      "Processing URLs:  81%|█████████████████████████████████████████████████████████████████▌               | 196/242 [01:10<00:07,  6.10it/s]"
     ]
    },
    {
     "name": "stdout",
     "output_type": "stream",
     "text": [
      "15:36:40 - httpx - INFO - HTTP Request: POST https://ai-gpt-echo.openai.azure.com/openai/deployments/gpt-4.1/chat/completions?api-version=2024-12-01-preview \"HTTP/1.1 200 OK\"\n"
     ]
    },
    {
     "name": "stderr",
     "output_type": "stream",
     "text": [
      "Processing URLs:  81%|█████████████████████████████████████████████████████████████████▉               | 197/242 [01:10<00:08,  5.06it/s]"
     ]
    },
    {
     "name": "stdout",
     "output_type": "stream",
     "text": [
      "15:36:41 - httpx - INFO - HTTP Request: POST https://ai-gpt-echo.openai.azure.com/openai/deployments/gpt-4.1/chat/completions?api-version=2024-12-01-preview \"HTTP/1.1 200 OK\"\n"
     ]
    },
    {
     "name": "stderr",
     "output_type": "stream",
     "text": [
      "Processing URLs:  82%|██████████████████████████████████████████████████████████████████▎              | 198/242 [01:11<00:11,  3.75it/s]"
     ]
    },
    {
     "name": "stdout",
     "output_type": "stream",
     "text": [
      "15:36:41 - httpx - INFO - HTTP Request: POST https://ai-gpt-echo.openai.azure.com/openai/deployments/gpt-4.1/chat/completions?api-version=2024-12-01-preview \"HTTP/1.1 200 OK\"\n",
      "15:36:41 - httpx - INFO - HTTP Request: POST https://ai-gpt-echo.openai.azure.com/openai/deployments/gpt-4.1/chat/completions?api-version=2024-12-01-preview \"HTTP/1.1 200 OK\"\n"
     ]
    },
    {
     "name": "stderr",
     "output_type": "stream",
     "text": [
      "Processing URLs:  83%|██████████████████████████████████████████████████████████████████▉              | 200/242 [01:11<00:09,  4.45it/s]"
     ]
    },
    {
     "name": "stdout",
     "output_type": "stream",
     "text": [
      "15:36:41 - httpx - INFO - HTTP Request: POST https://ai-gpt-echo.openai.azure.com/openai/deployments/gpt-4.1/chat/completions?api-version=2024-12-01-preview \"HTTP/1.1 200 OK\"\n",
      "15:36:41 - httpx - INFO - HTTP Request: POST https://ai-gpt-echo.openai.azure.com/openai/deployments/gpt-4.1/chat/completions?api-version=2024-12-01-preview \"HTTP/1.1 200 OK\"\n"
     ]
    },
    {
     "name": "stderr",
     "output_type": "stream",
     "text": [
      "Processing URLs:  83%|███████████████████████████████████████████████████████████████████▌             | 202/242 [01:11<00:06,  6.18it/s]"
     ]
    },
    {
     "name": "stdout",
     "output_type": "stream",
     "text": [
      "15:36:42 - httpx - INFO - HTTP Request: POST https://ai-gpt-echo.openai.azure.com/openai/deployments/gpt-4.1/chat/completions?api-version=2024-12-01-preview \"HTTP/1.1 200 OK\"\n"
     ]
    },
    {
     "name": "stderr",
     "output_type": "stream",
     "text": [
      "Processing URLs:  84%|███████████████████████████████████████████████████████████████████▉             | 203/242 [01:11<00:08,  4.86it/s]"
     ]
    },
    {
     "name": "stdout",
     "output_type": "stream",
     "text": [
      "15:36:42 - httpx - INFO - HTTP Request: POST https://ai-gpt-echo.openai.azure.com/openai/deployments/gpt-4.1/chat/completions?api-version=2024-12-01-preview \"HTTP/1.1 200 OK\"\n"
     ]
    },
    {
     "name": "stderr",
     "output_type": "stream",
     "text": [
      "Processing URLs:  84%|████████████████████████████████████████████████████████████████████▎            | 204/242 [01:12<00:10,  3.57it/s]"
     ]
    },
    {
     "name": "stdout",
     "output_type": "stream",
     "text": [
      "15:36:42 - httpx - INFO - HTTP Request: POST https://ai-gpt-echo.openai.azure.com/openai/deployments/gpt-4.1/chat/completions?api-version=2024-12-01-preview \"HTTP/1.1 200 OK\"\n"
     ]
    },
    {
     "name": "stderr",
     "output_type": "stream",
     "text": [
      "Processing URLs:  85%|████████████████████████████████████████████████████████████████████▌            | 205/242 [01:12<00:08,  4.17it/s]"
     ]
    },
    {
     "name": "stdout",
     "output_type": "stream",
     "text": [
      "15:36:43 - httpx - INFO - HTTP Request: POST https://ai-gpt-echo.openai.azure.com/openai/deployments/gpt-4.1/chat/completions?api-version=2024-12-01-preview \"HTTP/1.1 200 OK\"\n"
     ]
    },
    {
     "name": "stderr",
     "output_type": "stream",
     "text": [
      "Processing URLs:  85%|████████████████████████████████████████████████████████████████████▉            | 206/242 [01:13<00:10,  3.30it/s]"
     ]
    },
    {
     "name": "stdout",
     "output_type": "stream",
     "text": [
      "15:36:44 - httpx - INFO - HTTP Request: POST https://ai-gpt-echo.openai.azure.com/openai/deployments/gpt-4.1/chat/completions?api-version=2024-12-01-preview \"HTTP/1.1 200 OK\"\n"
     ]
    },
    {
     "name": "stderr",
     "output_type": "stream",
     "text": [
      "Processing URLs:  86%|█████████████████████████████████████████████████████████████████████▎           | 207/242 [01:14<00:16,  2.11it/s]"
     ]
    },
    {
     "name": "stdout",
     "output_type": "stream",
     "text": [
      "15:36:44 - httpx - INFO - HTTP Request: POST https://ai-gpt-echo.openai.azure.com/openai/deployments/gpt-4.1/chat/completions?api-version=2024-12-01-preview \"HTTP/1.1 200 OK\"\n"
     ]
    },
    {
     "name": "stderr",
     "output_type": "stream",
     "text": [
      "Processing URLs:  86%|█████████████████████████████████████████████████████████████████████▌           | 208/242 [01:14<00:13,  2.46it/s]"
     ]
    },
    {
     "name": "stdout",
     "output_type": "stream",
     "text": [
      "15:36:44 - httpx - INFO - HTTP Request: POST https://ai-gpt-echo.openai.azure.com/openai/deployments/gpt-4.1/chat/completions?api-version=2024-12-01-preview \"HTTP/1.1 200 OK\"\n",
      "15:36:45 - httpx - INFO - HTTP Request: POST https://ai-gpt-echo.openai.azure.com/openai/deployments/gpt-4.1/chat/completions?api-version=2024-12-01-preview \"HTTP/1.1 200 OK\"\n"
     ]
    },
    {
     "name": "stderr",
     "output_type": "stream",
     "text": [
      "Processing URLs:  87%|██████████████████████████████████████████████████████████████████████▎          | 210/242 [01:15<00:12,  2.52it/s]"
     ]
    },
    {
     "name": "stdout",
     "output_type": "stream",
     "text": [
      "15:36:45 - httpx - INFO - HTTP Request: POST https://ai-gpt-echo.openai.azure.com/openai/deployments/gpt-4.1/chat/completions?api-version=2024-12-01-preview \"HTTP/1.1 200 OK\"\n",
      "15:36:45 - httpx - INFO - HTTP Request: POST https://ai-gpt-echo.openai.azure.com/openai/deployments/gpt-4.1/chat/completions?api-version=2024-12-01-preview \"HTTP/1.1 200 OK\"\n",
      "15:36:45 - httpx - INFO - HTTP Request: POST https://ai-gpt-echo.openai.azure.com/openai/deployments/gpt-4.1/chat/completions?api-version=2024-12-01-preview \"HTTP/1.1 200 OK\"\n"
     ]
    },
    {
     "name": "stderr",
     "output_type": "stream",
     "text": [
      "Processing URLs:  88%|██████████████████████████████████████████████████████████████████████▉          | 212/242 [01:15<00:10,  2.73it/s]"
     ]
    },
    {
     "name": "stdout",
     "output_type": "stream",
     "text": [
      "15:36:46 - httpx - INFO - HTTP Request: POST https://ai-gpt-echo.openai.azure.com/openai/deployments/gpt-4.1/chat/completions?api-version=2024-12-01-preview \"HTTP/1.1 200 OK\"\n"
     ]
    },
    {
     "name": "stderr",
     "output_type": "stream",
     "text": [
      "Processing URLs:  88%|███████████████████████████████████████████████████████████████████████▋         | 214/242 [01:15<00:07,  3.71it/s]"
     ]
    },
    {
     "name": "stdout",
     "output_type": "stream",
     "text": [
      "15:36:46 - httpx - INFO - HTTP Request: POST https://ai-gpt-echo.openai.azure.com/openai/deployments/gpt-4.1/chat/completions?api-version=2024-12-01-preview \"HTTP/1.1 200 OK\"\n"
     ]
    },
    {
     "name": "stderr",
     "output_type": "stream",
     "text": [
      "Processing URLs:  89%|███████████████████████████████████████████████████████████████████████▉         | 215/242 [01:16<00:06,  3.98it/s]"
     ]
    },
    {
     "name": "stdout",
     "output_type": "stream",
     "text": [
      "15:36:46 - httpx - INFO - HTTP Request: POST https://ai-gpt-echo.openai.azure.com/openai/deployments/gpt-4.1/chat/completions?api-version=2024-12-01-preview \"HTTP/1.1 200 OK\"\n"
     ]
    },
    {
     "name": "stderr",
     "output_type": "stream",
     "text": [
      "Processing URLs:  89%|████████████████████████████████████████████████████████████████████████▎        | 216/242 [01:16<00:08,  3.23it/s]"
     ]
    },
    {
     "name": "stdout",
     "output_type": "stream",
     "text": [
      "15:36:46 - httpx - INFO - HTTP Request: POST https://ai-gpt-echo.openai.azure.com/openai/deployments/gpt-4.1/chat/completions?api-version=2024-12-01-preview \"HTTP/1.1 200 OK\"\n",
      "15:36:46 - httpx - INFO - HTTP Request: POST https://ai-gpt-echo.openai.azure.com/openai/deployments/gpt-4.1/chat/completions?api-version=2024-12-01-preview \"HTTP/1.1 200 OK\"\n",
      "15:36:47 - httpx - INFO - HTTP Request: POST https://ai-gpt-echo.openai.azure.com/openai/deployments/gpt-4.1/chat/completions?api-version=2024-12-01-preview \"HTTP/1.1 200 OK\"\n",
      "15:36:47 - httpx - INFO - HTTP Request: POST https://ai-gpt-echo.openai.azure.com/openai/deployments/gpt-4.1/chat/completions?api-version=2024-12-01-preview \"HTTP/1.1 200 OK\"\n"
     ]
    },
    {
     "name": "stderr",
     "output_type": "stream",
     "text": [
      "Processing URLs:  90%|█████████████████████████████████████████████████████████████████████████▎       | 219/242 [01:17<00:05,  4.26it/s]"
     ]
    },
    {
     "name": "stdout",
     "output_type": "stream",
     "text": [
      "15:36:47 - httpx - INFO - HTTP Request: POST https://ai-gpt-echo.openai.azure.com/openai/deployments/gpt-4.1/chat/completions?api-version=2024-12-01-preview \"HTTP/1.1 200 OK\"\n"
     ]
    },
    {
     "name": "stderr",
     "output_type": "stream",
     "text": [
      "Processing URLs:  91%|█████████████████████████████████████████████████████████████████████████▉       | 221/242 [01:17<00:04,  5.23it/s]"
     ]
    },
    {
     "name": "stdout",
     "output_type": "stream",
     "text": [
      "15:36:47 - httpx - INFO - HTTP Request: POST https://ai-gpt-echo.openai.azure.com/openai/deployments/gpt-4.1/chat/completions?api-version=2024-12-01-preview \"HTTP/1.1 200 OK\"\n",
      "15:36:48 - httpx - INFO - HTTP Request: POST https://ai-gpt-echo.openai.azure.com/openai/deployments/gpt-4.1/chat/completions?api-version=2024-12-01-preview \"HTTP/1.1 200 OK\"\n"
     ]
    },
    {
     "name": "stderr",
     "output_type": "stream",
     "text": [
      "Processing URLs:  92%|██████████████████████████████████████████████████████████████████████████▋      | 223/242 [01:17<00:04,  4.16it/s]"
     ]
    },
    {
     "name": "stdout",
     "output_type": "stream",
     "text": [
      "15:36:48 - httpx - INFO - HTTP Request: POST https://ai-gpt-echo.openai.azure.com/openai/deployments/gpt-4.1/chat/completions?api-version=2024-12-01-preview \"HTTP/1.1 200 OK\"\n"
     ]
    },
    {
     "name": "stderr",
     "output_type": "stream",
     "text": [
      "Processing URLs:  93%|██████████████████████████████████████████████████████████████████████████▉      | 224/242 [01:18<00:04,  4.38it/s]"
     ]
    },
    {
     "name": "stdout",
     "output_type": "stream",
     "text": [
      "15:36:49 - httpx - INFO - HTTP Request: POST https://ai-gpt-echo.openai.azure.com/openai/deployments/gpt-4.1/chat/completions?api-version=2024-12-01-preview \"HTTP/1.1 200 OK\"\n"
     ]
    },
    {
     "name": "stderr",
     "output_type": "stream",
     "text": [
      "Processing URLs:  93%|███████████████████████████████████████████████████████████████████████████▎     | 225/242 [01:18<00:06,  2.77it/s]"
     ]
    },
    {
     "name": "stdout",
     "output_type": "stream",
     "text": [
      "15:36:49 - httpx - INFO - HTTP Request: POST https://ai-gpt-echo.openai.azure.com/openai/deployments/gpt-4.1/chat/completions?api-version=2024-12-01-preview \"HTTP/1.1 200 OK\"\n"
     ]
    },
    {
     "name": "stderr",
     "output_type": "stream",
     "text": [
      "Processing URLs:  93%|███████████████████████████████████████████████████████████████████████████▋     | 226/242 [01:19<00:07,  2.24it/s]"
     ]
    },
    {
     "name": "stdout",
     "output_type": "stream",
     "text": [
      "15:36:50 - httpx - INFO - HTTP Request: POST https://ai-gpt-echo.openai.azure.com/openai/deployments/gpt-4.1/chat/completions?api-version=2024-12-01-preview \"HTTP/1.1 200 OK\"\n"
     ]
    },
    {
     "name": "stderr",
     "output_type": "stream",
     "text": [
      "Processing URLs:  94%|███████████████████████████████████████████████████████████████████████████▉     | 227/242 [01:20<00:08,  1.72it/s]"
     ]
    },
    {
     "name": "stdout",
     "output_type": "stream",
     "text": [
      "15:36:52 - httpx - INFO - HTTP Request: POST https://ai-gpt-echo.openai.azure.com/openai/deployments/gpt-4.1/chat/completions?api-version=2024-12-01-preview \"HTTP/1.1 200 OK\"\n"
     ]
    },
    {
     "name": "stderr",
     "output_type": "stream",
     "text": [
      "Processing URLs:  94%|████████████████████████████████████████████████████████████████████████████▎    | 228/242 [01:21<00:10,  1.33it/s]"
     ]
    },
    {
     "name": "stdout",
     "output_type": "stream",
     "text": [
      "15:36:52 - httpx - INFO - HTTP Request: POST https://ai-gpt-echo.openai.azure.com/openai/deployments/gpt-4.1/chat/completions?api-version=2024-12-01-preview \"HTTP/1.1 200 OK\"\n"
     ]
    },
    {
     "name": "stderr",
     "output_type": "stream",
     "text": [
      "Processing URLs:  95%|████████████████████████████████████████████████████████████████████████████▋    | 229/242 [01:22<00:08,  1.62it/s]"
     ]
    },
    {
     "name": "stdout",
     "output_type": "stream",
     "text": [
      "15:36:52 - httpx - INFO - HTTP Request: POST https://ai-gpt-echo.openai.azure.com/openai/deployments/gpt-4.1/chat/completions?api-version=2024-12-01-preview \"HTTP/1.1 200 OK\"\n"
     ]
    },
    {
     "name": "stderr",
     "output_type": "stream",
     "text": [
      "Processing URLs:  95%|████████████████████████████████████████████████████████████████████████████▉    | 230/242 [01:22<00:05,  2.01it/s]"
     ]
    },
    {
     "name": "stdout",
     "output_type": "stream",
     "text": [
      "15:36:53 - httpx - INFO - HTTP Request: POST https://ai-gpt-echo.openai.azure.com/openai/deployments/gpt-4.1/chat/completions?api-version=2024-12-01-preview \"HTTP/1.1 200 OK\"\n"
     ]
    },
    {
     "name": "stderr",
     "output_type": "stream",
     "text": [
      "Processing URLs:  95%|█████████████████████████████████████████████████████████████████████████████▎   | 231/242 [01:22<00:05,  1.97it/s]"
     ]
    },
    {
     "name": "stdout",
     "output_type": "stream",
     "text": [
      "15:36:53 - httpx - INFO - HTTP Request: POST https://ai-gpt-echo.openai.azure.com/openai/deployments/gpt-4.1/chat/completions?api-version=2024-12-01-preview \"HTTP/1.1 200 OK\"\n"
     ]
    },
    {
     "name": "stderr",
     "output_type": "stream",
     "text": [
      "Processing URLs:  96%|█████████████████████████████████████████████████████████████████████████████▋   | 232/242 [01:23<00:04,  2.08it/s]"
     ]
    },
    {
     "name": "stdout",
     "output_type": "stream",
     "text": [
      "15:36:53 - httpx - INFO - HTTP Request: POST https://ai-gpt-echo.openai.azure.com/openai/deployments/gpt-4.1/chat/completions?api-version=2024-12-01-preview \"HTTP/1.1 200 OK\"\n",
      "15:36:54 - httpx - INFO - HTTP Request: POST https://ai-gpt-echo.openai.azure.com/openai/deployments/gpt-4.1/chat/completions?api-version=2024-12-01-preview \"HTTP/1.1 200 OK\"\n"
     ]
    },
    {
     "name": "stderr",
     "output_type": "stream",
     "text": [
      "Processing URLs:  97%|██████████████████████████████████████████████████████████████████████████████▎  | 234/242 [01:24<00:04,  1.83it/s]"
     ]
    },
    {
     "name": "stdout",
     "output_type": "stream",
     "text": [
      "15:36:56 - httpx - INFO - HTTP Request: POST https://ai-gpt-echo.openai.azure.com/openai/deployments/gpt-4.1/chat/completions?api-version=2024-12-01-preview \"HTTP/1.1 200 OK\"\n"
     ]
    },
    {
     "name": "stderr",
     "output_type": "stream",
     "text": [
      "Processing URLs:  97%|██████████████████████████████████████████████████████████████████████████████▋  | 235/242 [01:26<00:05,  1.17it/s]"
     ]
    },
    {
     "name": "stdout",
     "output_type": "stream",
     "text": [
      "15:36:57 - httpx - INFO - HTTP Request: POST https://ai-gpt-echo.openai.azure.com/openai/deployments/gpt-4.1/chat/completions?api-version=2024-12-01-preview \"HTTP/1.1 200 OK\"\n"
     ]
    },
    {
     "name": "stderr",
     "output_type": "stream",
     "text": [
      "Processing URLs:  98%|██████████████████████████████████████████████████████████████████████████████▉  | 236/242 [01:27<00:05,  1.04it/s]"
     ]
    },
    {
     "name": "stdout",
     "output_type": "stream",
     "text": [
      "15:36:58 - httpx - INFO - HTTP Request: POST https://ai-gpt-echo.openai.azure.com/openai/deployments/gpt-4.1/chat/completions?api-version=2024-12-01-preview \"HTTP/1.1 200 OK\"\n"
     ]
    },
    {
     "name": "stderr",
     "output_type": "stream",
     "text": [
      "Processing URLs:  98%|███████████████████████████████████████████████████████████████████████████████▎ | 237/242 [01:28<00:04,  1.24it/s]"
     ]
    },
    {
     "name": "stdout",
     "output_type": "stream",
     "text": [
      "15:37:03 - httpx - INFO - HTTP Request: POST https://ai-gpt-echo.openai.azure.com/openai/deployments/gpt-4.1/chat/completions?api-version=2024-12-01-preview \"HTTP/1.1 200 OK\"\n"
     ]
    },
    {
     "name": "stderr",
     "output_type": "stream",
     "text": [
      "Processing URLs:  98%|███████████████████████████████████████████████████████████████████████████████▋ | 238/242 [01:33<00:08,  2.00s/it]"
     ]
    },
    {
     "name": "stdout",
     "output_type": "stream",
     "text": [
      "15:37:05 - httpx - INFO - HTTP Request: POST https://ai-gpt-echo.openai.azure.com/openai/deployments/gpt-4.1/chat/completions?api-version=2024-12-01-preview \"HTTP/1.1 200 OK\"\n"
     ]
    },
    {
     "name": "stderr",
     "output_type": "stream",
     "text": [
      "Processing URLs:  99%|███████████████████████████████████████████████████████████████████████████████▉ | 239/242 [01:34<00:05,  1.93s/it]"
     ]
    },
    {
     "name": "stdout",
     "output_type": "stream",
     "text": [
      "15:37:09 - httpx - INFO - HTTP Request: POST https://ai-gpt-echo.openai.azure.com/openai/deployments/gpt-4.1/chat/completions?api-version=2024-12-01-preview \"HTTP/1.1 200 OK\"\n"
     ]
    },
    {
     "name": "stderr",
     "output_type": "stream",
     "text": [
      "Processing URLs:  99%|████████████████████████████████████████████████████████████████████████████████▎| 240/242 [01:38<00:04,  2.49s/it]"
     ]
    },
    {
     "name": "stdout",
     "output_type": "stream",
     "text": [
      "15:37:12 - httpx - INFO - HTTP Request: POST https://ai-gpt-echo.openai.azure.com/openai/deployments/gpt-4.1/chat/completions?api-version=2024-12-01-preview \"HTTP/1.1 200 OK\"\n"
     ]
    },
    {
     "name": "stderr",
     "output_type": "stream",
     "text": [
      "Processing URLs: 100%|████████████████████████████████████████████████████████████████████████████████▋| 241/242 [01:41<00:02,  2.70s/it]"
     ]
    },
    {
     "name": "stdout",
     "output_type": "stream",
     "text": [
      "15:37:14 - httpx - INFO - HTTP Request: POST https://ai-gpt-echo.openai.azure.com/openai/deployments/gpt-4.1/chat/completions?api-version=2024-12-01-preview \"HTTP/1.1 200 OK\"\n"
     ]
    },
    {
     "name": "stderr",
     "output_type": "stream",
     "text": [
      "Processing URLs: 100%|█████████████████████████████████████████████████████████████████████████████████| 242/242 [01:44<00:00,  2.31it/s]"
     ]
    },
    {
     "name": "stdout",
     "output_type": "stream",
     "text": [
      "15:37:14 - agents.improved_content_extraction_agent - INFO - 📊 FINAL STATISTICS:\n",
      "15:37:14 - agents.improved_content_extraction_agent - INFO -    📋 Total URLs processed: 242\n",
      "15:37:14 - agents.improved_content_extraction_agent - INFO -    🔄 Content Extraction Results:\n",
      "15:37:14 - agents.improved_content_extraction_agent - INFO -       ✅ Successful extractions: 242\n",
      "15:37:14 - agents.improved_content_extraction_agent - INFO -       📭 No content found: 0\n",
      "15:37:14 - agents.improved_content_extraction_agent - INFO -       ❌ Failed extractions: 0\n",
      "15:37:14 - agents.improved_content_extraction_agent - INFO -    🤖 AI Analysis Results:\n",
      "15:37:14 - agents.improved_content_extraction_agent - INFO -       🔍 Successfully analyzed by AI: 239\n",
      "15:37:14 - agents.improved_content_extraction_agent - INFO -       🏷️  AI-filtered as irrelevant: 47\n",
      "15:37:14 - agents.improved_content_extraction_agent - INFO -    📈 Overall success rate: 100.0%\n",
      "15:37:14 - agents.improved_content_extraction_agent - INFO - Completed search and extraction with 242 articles processed\n",
      "✅ Content extraction completed!\n",
      "📊 Total articles processed: 242\n"
     ]
    },
    {
     "name": "stderr",
     "output_type": "stream",
     "text": [
      "\n"
     ]
    }
   ],
   "source": [
    "# Search and extract content for the target company\n",
    "print(f\"🚀 Starting search and content extraction for: {primary_company_name}\")\n",
    "\n",
    "# Use the main search and extract method\n",
    "results_data = await extractor.search_and_extract_content(\n",
    "    search_queries=search_queries[:1],\n",
    "    aliases=company_aliases, \n",
    "    parent_company_name=parent_company_name\n",
    ")\n",
    "\n",
    "# Extract the results\n",
    "results = results_data[\"search_results\"]\n",
    "\n",
    "print(f\"✅ Content extraction completed!\")\n",
    "print(f\"📊 Total articles processed: {len(results)}\")\n"
   ]
  },
  {
   "cell_type": "markdown",
   "metadata": {
    "vscode": {
     "languageId": "raw"
    }
   },
   "source": [
    "## Step 4: Process Results into DataFrame\n",
    "\n",
    "Convert the analysis results into a structured DataFrame\n"
   ]
  },
  {
   "cell_type": "code",
   "execution_count": 15,
   "metadata": {},
   "outputs": [
    {
     "name": "stdout",
     "output_type": "stream",
     "text": [
      "📊 Converting results to DataFrame...\n",
      "✅ DataFrame created with 242 rows and 30 columns\n",
      "📊 Data shape: (242, 30)\n",
      "\n",
      "📈 Basic Statistics:\n",
      "   🔄 Extraction Status:\n",
      "      success: 242 (100.0%)\n",
      "   🏷️  Filter Status:\n",
      "      Filtered: False = 195 (80.6%)\n",
      "      Filtered: True = 47 (19.4%)\n",
      "   ⚠️  Adverse Status:\n",
      "      Negative: 129 (53.3%)\n",
      "      Neutral: 73 (30.2%)\n",
      "      Positive: 40 (16.5%)\n"
     ]
    }
   ],
   "source": [
    "def extract_metadata_field(result, field, default=None):\n",
    "    \"\"\"Helper to extract from analysis['metadata'] if present, else from analysis\"\"\"\n",
    "    analysis = result.get('analysis', {}) or {}\n",
    "    metadata = analysis.get('metadata', {}) or {}\n",
    "    if isinstance(metadata, dict) and field in metadata:\n",
    "        return metadata.get(field, default)\n",
    "    if isinstance(analysis, dict):\n",
    "        return analysis.get(field, default)\n",
    "    return default\n",
    "\n",
    "def safe_get_jina_field(result, field, default=''):\n",
    "    \"\"\"Safely extract field from jina_content\"\"\"\n",
    "    jina_content = result.get('jina_content', {}) or {}\n",
    "    return jina_content.get(field, default)\n",
    "\n",
    "# Convert results to DataFrame\n",
    "print(\"📊 Converting results to DataFrame...\")\n",
    "\n",
    "df_data = []\n",
    "for result in results:\n",
    "    row = {\n",
    "        # Basic URL and content info\n",
    "        'url': result.get('link', ''),\n",
    "        'title': result.get('title', ''),\n",
    "        'snippet': result.get('snippet', ''),\n",
    "        'source': result.get('source', ''),\n",
    "        'date': result.get('date', ''),\n",
    "        'source_query': result.get('source_query', ''),\n",
    "        'search_engine': result.get('search_engine', ''),  # <-- Added search engine\n",
    "        \n",
    "        # Content extraction info\n",
    "        'extraction_status': result.get('extraction_status', 'unknown'),\n",
    "        'content_title': safe_get_jina_field(result, 'title'),\n",
    "        'content_length': len(safe_get_jina_field(result, 'content')),\n",
    "        'content_published_time': safe_get_jina_field(result, 'publishedTime'),\n",
    "        \n",
    "        # Analysis results\n",
    "        'is_adverse': extract_metadata_field(result, 'is_adverse', 'Neutral'),\n",
    "        'is_adverse_reason': extract_metadata_field(result, 'is_adverse_reason', ''),\n",
    "        'is_filtered': extract_metadata_field(result, 'is_filter', False),\n",
    "        'is_filter_reason': extract_metadata_field(result, 'is_filter_reason', ''),\n",
    "        'published_date': extract_metadata_field(result, 'published_date', ''),\n",
    "        'author': extract_metadata_field(result, 'author', ''),\n",
    "        'keywords': extract_metadata_field(result, 'keywords', []),\n",
    "        \n",
    "        # Risk metadata\n",
    "        'risk_category': extract_metadata_field(result, 'risk_category', ''),\n",
    "        'risk_explanation': extract_metadata_field(result, 'risk_explanation', ''),\n",
    "        'risk_snippet': extract_metadata_field(result, 'risk_snippet', ''),\n",
    "        'priority_level': extract_metadata_field(result, 'priority_level', ''),\n",
    "        'confidence_score': extract_metadata_field(result, 'confidence_score', 0.0),\n",
    "        'event_timeline': extract_metadata_field(result, 'event_timeline', ''),\n",
    "        \n",
    "        # Adverse event flags\n",
    "        'has_fraud': extract_metadata_field(result, 'has_fraud', False),\n",
    "        'has_litigation': extract_metadata_field(result, 'has_litigation', False),\n",
    "        'has_insolvency': extract_metadata_field(result, 'has_insolvency', False),\n",
    "        'has_regulatory_action': extract_metadata_field(result, 'has_regulatory_action', False),\n",
    "        \n",
    "        # Parent/subsidiary relationship\n",
    "        'is_subsidiary_parent_company': extract_metadata_field(result, 'is_subsadariy_parent_company', False),\n",
    "        'is_subsidiary_parent_company_reason': extract_metadata_field(result, 'is_subsadariy_parent_company_reason', ''),\n",
    "    }\n",
    "    df_data.append(row)\n",
    "\n",
    "# Create DataFrame\n",
    "df = pd.DataFrame(df_data)\n",
    "\n",
    "print(f\"✅ DataFrame created with {len(df)} rows and {len(df.columns)} columns\")\n",
    "print(f\"📊 Data shape: {df.shape}\")\n",
    "\n",
    "# Display basic statistics\n",
    "print(f\"\\n📈 Basic Statistics:\")\n",
    "print(f\"   🔄 Extraction Status:\")\n",
    "extraction_stats = df['extraction_status'].value_counts()\n",
    "for status, count in extraction_stats.items():\n",
    "    print(f\"      {status}: {count} ({count/len(df)*100:.1f}%)\")\n",
    "\n",
    "print(f\"   🏷️  Filter Status:\")\n",
    "filter_stats = df['is_filtered'].value_counts()\n",
    "for status, count in filter_stats.items():\n",
    "    print(f\"      Filtered: {status} = {count} ({count/len(df)*100:.1f}%)\")\n",
    "\n",
    "print(f\"   ⚠️  Adverse Status:\")\n",
    "adverse_stats = df['is_adverse'].value_counts()\n",
    "for status, count in adverse_stats.items():\n",
    "    print(f\"      {status}: {count} ({count/len(df)*100:.1f}%)\")\n"
   ]
  },
  {
   "cell_type": "markdown",
   "metadata": {
    "vscode": {
     "languageId": "raw"
    }
   },
   "source": [
    "## Step 5: Clean and Filter Data\n",
    "\n",
    "Remove filtered content, failed extractions, and clean the dataset\n"
   ]
  },
  {
   "cell_type": "code",
   "execution_count": 16,
   "metadata": {},
   "outputs": [
    {
     "name": "stdout",
     "output_type": "stream",
     "text": [
      "🧹 Cleaning and filtering data...\n",
      "📊 Starting with 242 total articles\n",
      "❌ Removed 0 failed extractions\n",
      "🏷️  Removed 47 filtered/irrelevant articles\n",
      "📅 Cleaning published dates...\n",
      "📅 Kept 190 articles with valid published dates\n",
      "📅 Removed 5 articles without valid dates\n",
      "\n",
      "✅ Data cleaning completed!\n",
      "📊 Final dataset: 190 articles\n",
      "📉 Removed: 52 articles total\n",
      "📈 Retention rate: 78.5%\n",
      "📅 Date range: 2021-06-14 to 2025-07-25\n",
      "\n",
      "⚠️  Final Adverse Content Distribution:\n",
      "      Negative: 127 articles (66.8%)\n",
      "      Positive: 39 articles (20.5%)\n",
      "      Neutral: 24 articles (12.6%)\n"
     ]
    }
   ],
   "source": [
    "print(f\"🧹 Cleaning and filtering data...\")\n",
    "print(f\"📊 Starting with {len(df)} total articles\")\n",
    "\n",
    "# Store original for comparison\n",
    "original_count = len(df)\n",
    "\n",
    "# Step 1: Remove failed extractions\n",
    "df_cleaned = df[df['extraction_status'] == 'success'].copy()\n",
    "failed_extractions = original_count - len(df_cleaned)\n",
    "print(f\"❌ Removed {failed_extractions} failed extractions\")\n",
    "\n",
    "# Step 2: Remove filtered articles (not relevant to company)\n",
    "df_cleaned = df_cleaned[df_cleaned['is_filtered'] == False].copy()\n",
    "filtered_articles = len(df) - failed_extractions - len(df_cleaned)\n",
    "print(f\"🏷️  Removed {filtered_articles} filtered/irrelevant articles\")\n",
    "\n",
    "# Step 3: Parse and clean published dates\n",
    "print(f\"📅 Cleaning published dates...\")\n",
    "def parse_date_robust(date_str):\n",
    "    \"\"\"Robust date parsing function\"\"\"\n",
    "    if pd.isna(date_str) or date_str == '':\n",
    "        return None\n",
    "    try:\n",
    "        return pd.to_datetime(date_str, errors='coerce')\n",
    "    except:\n",
    "        return None\n",
    "\n",
    "df_cleaned['published_date'] = df_cleaned['published_date'].apply(parse_date_robust)\n",
    "\n",
    "# Step 4: Remove articles without valid dates\n",
    "articles_with_dates = df_cleaned['published_date'].notna().sum()\n",
    "df_cleaned = df_cleaned[df_cleaned['published_date'].notna()].copy()\n",
    "articles_without_dates = original_count - len(df_cleaned) - failed_extractions - filtered_articles\n",
    "print(f\"📅 Kept {len(df_cleaned)} articles with valid published dates\")\n",
    "if articles_without_dates > 0:\n",
    "    print(f\"📅 Removed {articles_without_dates} articles without valid dates\")\n",
    "\n",
    "# Step 5: Sort by published date (newest first)\n",
    "df_cleaned = df_cleaned.sort_values('published_date', ascending=False).reset_index(drop=True)\n",
    "\n",
    "# Step 6: Clean keywords field\n",
    "def clean_keywords(keywords):\n",
    "    \"\"\"Convert keywords list to string\"\"\"\n",
    "    if isinstance(keywords, list) and keywords:\n",
    "        return \", \".join([str(k) for k in keywords if k])\n",
    "    return \"\"\n",
    "\n",
    "df_cleaned['keywords'] = df_cleaned['keywords'].apply(clean_keywords)\n",
    "\n",
    "print(f\"\\n✅ Data cleaning completed!\")\n",
    "print(f\"📊 Final dataset: {len(df_cleaned)} articles\")\n",
    "print(f\"📉 Removed: {original_count - len(df_cleaned)} articles total\")\n",
    "if original_count > 0:\n",
    "    print(f\"📈 Retention rate: {len(df_cleaned)/original_count*100:.1f}%\")\n",
    "\n",
    "# Show date range\n",
    "if len(df_cleaned) > 0:\n",
    "    date_range = f\"{df_cleaned['published_date'].min().date()} to {df_cleaned['published_date'].max().date()}\"\n",
    "    print(f\"📅 Date range: {date_range}\")\n",
    "    \n",
    "    # Show adverse statistics for cleaned data\n",
    "    print(f\"\\n⚠️  Final Adverse Content Distribution:\")\n",
    "    final_adverse_stats = df_cleaned['is_adverse'].value_counts()\n",
    "    for status, count in final_adverse_stats.items():\n",
    "        print(f\"      {status}: {count} articles ({count/len(df_cleaned)*100:.1f}%)\")\n"
   ]
  },
  {
   "cell_type": "markdown",
   "metadata": {
    "vscode": {
     "languageId": "raw"
    }
   },
   "source": [
    "## Step 6: Segment by Subsidiary/Parent Company\n",
    "\n",
    "Create separate datasets for subsidiary-specific vs parent company impacts\n"
   ]
  },
  {
   "cell_type": "code",
   "execution_count": 7,
   "metadata": {},
   "outputs": [
    {
     "name": "stdout",
     "output_type": "stream",
     "text": [
      "🏢 Segmenting articles by subsidiary vs parent company impact...\n",
      "\n",
      "📊 Segmentation Results:\n",
      "   🎯 Subsidiary-specific articles: 66\n",
      "   🏭 Parent company impact articles: 127\n",
      "   📋 Total: 193\n",
      "\n",
      "🎯 Subsidiary-specific - Adverse Distribution:\n",
      "      Positive: 34 articles (51.5%)\n",
      "      Negative: 17 articles (25.8%)\n",
      "      Neutral: 15 articles (22.7%)\n",
      "\n",
      "🏭 Parent company impact - Adverse Distribution:\n",
      "      Negative: 112 articles (88.2%)\n",
      "      Positive: 9 articles (7.1%)\n",
      "      Neutral: 6 articles (4.7%)\n",
      "\n",
      "⚠️  Risk Analysis Summary:\n",
      "   ⚡ Fraud: 58 articles\n",
      "   ⚡ Litigation: 62 articles\n",
      "   ⚡ Regulatory_Action: 92 articles\n",
      "\n",
      "🚨 Priority Level Distribution:\n",
      "      High: 79 articles\n",
      "      Medium: 44 articles\n",
      "      Low: 5 articles\n"
     ]
    }
   ],
   "source": [
    "print(f\"🏢 Segmenting articles by subsidiary vs parent company impact...\")\n",
    "\n",
    "# Segment 1: Articles specifically about the subsidiary/target company\n",
    "subsidiary_articles = df_cleaned[\n",
    "    df_cleaned['is_subsidiary_parent_company'] == False\n",
    "].copy()\n",
    "\n",
    "# Segment 2: Articles about parent company that impact subsidiary\n",
    "parent_impact_articles = df_cleaned[\n",
    "    df_cleaned['is_subsidiary_parent_company'] == True\n",
    "].copy()\n",
    "\n",
    "print(f\"\\n📊 Segmentation Results:\")\n",
    "print(f\"   🎯 Subsidiary-specific articles: {len(subsidiary_articles)}\")\n",
    "print(f\"   🏭 Parent company impact articles: {len(parent_impact_articles)}\")\n",
    "print(f\"   📋 Total: {len(subsidiary_articles) + len(parent_impact_articles)}\")\n",
    "\n",
    "# Show adverse distribution for each segment\n",
    "if len(subsidiary_articles) > 0:\n",
    "    print(f\"\\n🎯 Subsidiary-specific - Adverse Distribution:\")\n",
    "    sub_adverse = subsidiary_articles['is_adverse'].value_counts()\n",
    "    for status, count in sub_adverse.items():\n",
    "        print(f\"      {status}: {count} articles ({count/len(subsidiary_articles)*100:.1f}%)\")\n",
    "\n",
    "if len(parent_impact_articles) > 0:\n",
    "    print(f\"\\n🏭 Parent company impact - Adverse Distribution:\")\n",
    "    parent_adverse = parent_impact_articles['is_adverse'].value_counts()\n",
    "    for status, count in parent_adverse.items():\n",
    "        print(f\"      {status}: {count} articles ({count/len(parent_impact_articles)*100:.1f}%)\")\n",
    "\n",
    "# Create risk analysis summary\n",
    "print(f\"\\n⚠️  Risk Analysis Summary:\")\n",
    "risk_columns = ['has_fraud', 'has_litigation', 'has_insolvency', 'has_regulatory_action']\n",
    "for risk_type in risk_columns:\n",
    "    risk_count = df_cleaned[df_cleaned[risk_type] == True][risk_type].sum()\n",
    "    if risk_count > 0:\n",
    "        print(f\"   ⚡ {risk_type.replace('has_', '').title()}: {risk_count} articles\")\n",
    "\n",
    "# Show priority levels\n",
    "if 'priority_level' in df_cleaned.columns:\n",
    "    priority_stats = df_cleaned[df_cleaned['priority_level'] != '']['priority_level'].value_counts()\n",
    "    if len(priority_stats) > 0:\n",
    "        print(f\"\\n🚨 Priority Level Distribution:\")\n",
    "        for priority, count in priority_stats.items():\n",
    "            print(f\"      {priority}: {count} articles\")\n"
   ]
  },
  {
   "cell_type": "markdown",
   "metadata": {
    "vscode": {
     "languageId": "raw"
    }
   },
   "source": [
    "## Step 7: Export to Excel\n",
    "\n",
    "Save the results to Excel files with multiple sheets\n"
   ]
  },
  {
   "cell_type": "code",
   "execution_count": 17,
   "metadata": {},
   "outputs": [
    {
     "name": "stdout",
     "output_type": "stream",
     "text": [
      "💾 Exporting results to Excel and CSV...\n",
      "📁 Output directory: /home/bereket/Downloads/pulse_v2/output\n",
      "\n",
      "✅ Export completed successfully!\n",
      "📊 Excel file: Adani_Enterprises_Limited_analysis_20250725_153722.xlsx\n",
      "📋 CSV file: Adani_Enterprises_Limited_analysis_20250725_153722.csv\n",
      "\n",
      "📈 Export Summary:\n",
      "   📄 All Articles sheet: 190 rows\n",
      "   🎯 Subsidiary Specific sheet: 66 rows\n",
      "   🏭 Parent Company Impact sheet: 127 rows\n",
      "   ⚠️  Adverse Only sheet: 127 rows\n",
      "   📊 Summary sheet: Analysis metadata\n",
      "\n",
      "💾 File Sizes:\n",
      "   📊 Excel: 0.23 MB\n",
      "   📋 CSV: 0.25 MB\n"
     ]
    }
   ],
   "source": [
    "# Create output directory\n",
    "output_dir = Path(\"output\")\n",
    "output_dir.mkdir(exist_ok=True)\n",
    "\n",
    "# Generate timestamp for filenames\n",
    "timestamp = datetime.now().strftime(\"%Y%m%d_%H%M%S\")\n",
    "company_safe_name = primary_company_name.replace(\" \", \"_\").replace(\",\", \"\")\n",
    "\n",
    "# Define output files\n",
    "excel_file = output_dir / f\"{company_safe_name}_analysis_{timestamp}.xlsx\"\n",
    "csv_file = output_dir / f\"{company_safe_name}_analysis_{timestamp}.csv\"\n",
    "\n",
    "print(f\"💾 Exporting results to Excel and CSV...\")\n",
    "print(f\"📁 Output directory: {output_dir.absolute()}\")\n",
    "\n",
    "# Prepare data for export\n",
    "export_columns = [\n",
    "    'url', 'title', 'published_date', 'is_adverse', 'is_adverse_reason',\n",
    "    'risk_category', 'risk_explanation', 'risk_snippet', 'priority_level',\n",
    "    'confidence_score', 'has_fraud', 'has_litigation', 'has_insolvency',\n",
    "    'has_regulatory_action', 'author', 'keywords', 'source_query',\n",
    "    'is_subsidiary_parent_company', 'is_subsidiary_parent_company_reason',\n",
    "    'content_length', 'event_timeline'\n",
    "]\n",
    "\n",
    "# Ensure all export columns exist\n",
    "for col in export_columns:\n",
    "    if col not in df_cleaned.columns:\n",
    "        df_cleaned[col] = ''\n",
    "\n",
    "# Export to Excel with multiple sheets\n",
    "with pd.ExcelWriter(excel_file, engine='openpyxl') as writer:\n",
    "    # Sheet 1: All cleaned articles\n",
    "    df_cleaned[export_columns].to_excel(\n",
    "        writer, \n",
    "        sheet_name='All_Articles', \n",
    "        index=False\n",
    "    )\n",
    "    \n",
    "    # Sheet 2: Subsidiary-specific articles\n",
    "    if len(subsidiary_articles) > 0:\n",
    "        subsidiary_articles[export_columns].to_excel(\n",
    "            writer, \n",
    "            sheet_name='Subsidiary_Specific', \n",
    "            index=False\n",
    "        )\n",
    "    \n",
    "    # Sheet 3: Parent company impact articles\n",
    "    if len(parent_impact_articles) > 0:\n",
    "        parent_impact_articles[export_columns].to_excel(\n",
    "            writer, \n",
    "            sheet_name='Parent_Company_Impact', \n",
    "            index=False\n",
    "        )\n",
    "    \n",
    "    # Sheet 4: Adverse articles only\n",
    "    adverse_articles = df_cleaned[df_cleaned['is_adverse'] == 'Negative']\n",
    "    if len(adverse_articles) > 0:\n",
    "        adverse_articles[export_columns].to_excel(\n",
    "            writer, \n",
    "            sheet_name='Adverse_Only', \n",
    "            index=False\n",
    "        )\n",
    "    \n",
    "    # Sheet 5: Summary statistics\n",
    "    summary_data = [\n",
    "        ['Company Name', primary_company_name],\n",
    "        ['Parent Company', parent_company_name],\n",
    "        ['Analysis Date', datetime.now().strftime('%Y-%m-%d %H:%M:%S')],\n",
    "        ['Total Articles Processed', len(df)],\n",
    "        ['Articles After Cleaning', len(df_cleaned)],\n",
    "        ['Subsidiary-Specific Articles', len(subsidiary_articles)],\n",
    "        ['Parent Company Impact Articles', len(parent_impact_articles)],\n",
    "        ['Adverse Articles', len(adverse_articles)],\n",
    "        ['', ''],\n",
    "        ['Adverse Distribution', ''],\n",
    "    ]\n",
    "    \n",
    "    # Add adverse statistics\n",
    "    if len(df_cleaned) > 0:\n",
    "        adverse_stats = df_cleaned['is_adverse'].value_counts()\n",
    "        for status, count in adverse_stats.items():\n",
    "            summary_data.append([f'{status} Articles', f'{count} ({count/len(df_cleaned)*100:.1f}%)'])\n",
    "    \n",
    "    summary_df = pd.DataFrame(summary_data, columns=['Metric', 'Value'])\n",
    "    summary_df.to_excel(\n",
    "        writer, \n",
    "        sheet_name='Summary', \n",
    "        index=False\n",
    "    )\n",
    "\n",
    "# Export main dataset to CSV\n",
    "df_cleaned[export_columns].to_csv(csv_file, index=False)\n",
    "\n",
    "print(f\"\\n✅ Export completed successfully!\")\n",
    "print(f\"📊 Excel file: {excel_file.name}\")\n",
    "print(f\"📋 CSV file: {csv_file.name}\")\n",
    "print(f\"\\n📈 Export Summary:\")\n",
    "print(f\"   📄 All Articles sheet: {len(df_cleaned)} rows\")\n",
    "print(f\"   🎯 Subsidiary Specific sheet: {len(subsidiary_articles)} rows\")\n",
    "print(f\"   🏭 Parent Company Impact sheet: {len(parent_impact_articles)} rows\")\n",
    "print(f\"   ⚠️  Adverse Only sheet: {len(adverse_articles)} rows\")\n",
    "print(f\"   📊 Summary sheet: Analysis metadata\")\n",
    "\n",
    "# Show file sizes\n",
    "if excel_file.exists():\n",
    "    excel_size = excel_file.stat().st_size / (1024 * 1024)  # MB\n",
    "    csv_size = csv_file.stat().st_size / (1024 * 1024)  # MB\n",
    "    print(f\"\\n💾 File Sizes:\")\n",
    "    print(f\"   📊 Excel: {excel_size:.2f} MB\")\n",
    "    print(f\"   📋 CSV: {csv_size:.2f} MB\")\n"
   ]
  },
  {
   "cell_type": "markdown",
   "metadata": {
    "vscode": {
     "languageId": "raw"
    }
   },
   "source": [
    "## Step 8: Final Analysis Summary\n",
    "\n",
    "Display key insights and recommendations\n"
   ]
  },
  {
   "cell_type": "code",
   "execution_count": 18,
   "metadata": {},
   "outputs": [
    {
     "name": "stdout",
     "output_type": "stream",
     "text": [
      "📋 FINAL ANALYSIS SUMMARY\n",
      "==================================================\n",
      "\n",
      "🏢 Company: Adani Enterprises Limited\n",
      "🏭 Parent: Adani Group\n",
      "📅 Analysis Date: 2025-07-25 15:37:46\n",
      "\n",
      "📊 PROCESSING RESULTS:\n",
      "   ✅ Successfully analyzed: 190\n",
      "\n",
      "⚠️  RISK ASSESSMENT:\n",
      "   🚨 Adverse articles: 127 (66.8%)\n",
      "   ✅ Positive articles: 39 (20.5%)\n",
      "   ⚪ Neutral articles: 24 (12.6%)\n",
      "\n",
      "🚨 SPECIFIC RISK TYPES:\n",
      "   💰 Fraud: 59 articles\n",
      "   ⚖️  Litigation: 52 articles\n",
      "   🏛️  Regulatory: 92 articles\n",
      "\n",
      "🎯 PRIORITY DISTRIBUTION:\n",
      "   🔴 High priority: 83 articles\n",
      "   🟡 Medium priority: 38 articles\n",
      "   🟢 Low priority: 4 articles\n",
      "\n",
      "📅 TIME RANGE:\n",
      "   📅 From: 2021-06-14\n",
      "   📅 To: 2025-07-25\n",
      "   📊 Span: 1502 days\n",
      "\n",
      "🏢 COMPANY RELATIONSHIP ANALYSIS:\n",
      "   🎯 Direct subsidiary impact: 65 articles (34.2%)\n",
      "   🏭 Parent company spillover: 125 articles (65.8%)\n",
      "\n",
      "💾 OUTPUT FILES:\n",
      "   📊 Excel: Adani_Enterprises_Limited_analysis_20250725_153722.xlsx\n",
      "   📋 CSV: Adani_Enterprises_Limited_analysis_20250725_153722.csv\n",
      "   📁 Location: /home/bereket/Downloads/pulse_v2/output\n",
      "\n",
      "🎉 Analysis completed successfully!\n",
      "==================================================\n"
     ]
    }
   ],
   "source": [
    "print(\"📋 FINAL ANALYSIS SUMMARY\")\n",
    "print(\"=\" * 50)\n",
    "\n",
    "print(f\"\\n🏢 Company: {primary_company_name}\")\n",
    "print(f\"🏭 Parent: {parent_company_name}\")\n",
    "print(f\"📅 Analysis Date: {datetime.now().strftime('%Y-%m-%d %H:%M:%S')}\")\n",
    "\n",
    "print(f\"\\n📊 PROCESSING RESULTS:\")\n",
    "print(f\"   ✅ Successfully analyzed: {len(df_cleaned)}\")\n",
    "\n",
    "if len(df_cleaned) > 0:\n",
    "    print(f\"\\n⚠️  RISK ASSESSMENT:\")\n",
    "    \n",
    "    # Adverse content\n",
    "    adverse_count = len(df_cleaned[df_cleaned['is_adverse'] == 'Negative'])\n",
    "    positive_count = len(df_cleaned[df_cleaned['is_adverse'] == 'Positive'])\n",
    "    neutral_count = len(df_cleaned[df_cleaned['is_adverse'] == 'Neutral'])\n",
    "    \n",
    "    print(f\"   🚨 Adverse articles: {adverse_count} ({adverse_count/len(df_cleaned)*100:.1f}%)\")\n",
    "    print(f\"   ✅ Positive articles: {positive_count} ({positive_count/len(df_cleaned)*100:.1f}%)\")\n",
    "    print(f\"   ⚪ Neutral articles: {neutral_count} ({neutral_count/len(df_cleaned)*100:.1f}%)\")\n",
    "    \n",
    "    # Risk categories\n",
    "    risk_types = {\n",
    "        'has_fraud': '💰 Fraud',\n",
    "        'has_litigation': '⚖️  Litigation',\n",
    "        'has_insolvency': '💸 Insolvency',\n",
    "        'has_regulatory_action': '🏛️  Regulatory'\n",
    "    }\n",
    "    \n",
    "    print(f\"\\n🚨 SPECIFIC RISK TYPES:\")\n",
    "    for risk_col, risk_name in risk_types.items():\n",
    "        if risk_col in df_cleaned.columns:\n",
    "            risk_count = df_cleaned[df_cleaned[risk_col] == True][risk_col].sum()\n",
    "            if risk_count > 0:\n",
    "                print(f\"   {risk_name}: {risk_count} articles\")\n",
    "    \n",
    "    # Priority levels\n",
    "    high_priority = len(df_cleaned[df_cleaned['priority_level'] == 'High'])\n",
    "    medium_priority = len(df_cleaned[df_cleaned['priority_level'] == 'Medium'])\n",
    "    low_priority = len(df_cleaned[df_cleaned['priority_level'] == 'Low'])\n",
    "    \n",
    "    if high_priority + medium_priority + low_priority > 0:\n",
    "        print(f\"\\n🎯 PRIORITY DISTRIBUTION:\")\n",
    "        if high_priority > 0:\n",
    "            print(f\"   🔴 High priority: {high_priority} articles\")\n",
    "        if medium_priority > 0:\n",
    "            print(f\"   🟡 Medium priority: {medium_priority} articles\")\n",
    "        if low_priority > 0:\n",
    "            print(f\"   🟢 Low priority: {low_priority} articles\")\n",
    "    \n",
    "    # Date range\n",
    "    date_min = df_cleaned['published_date'].min()\n",
    "    date_max = df_cleaned['published_date'].max()\n",
    "    print(f\"\\n📅 TIME RANGE:\")\n",
    "    print(f\"   📅 From: {date_min.strftime('%Y-%m-%d')}\")\n",
    "    print(f\"   📅 To: {date_max.strftime('%Y-%m-%d')}\")\n",
    "    print(f\"   📊 Span: {(date_max - date_min).days} days\")\n",
    "    \n",
    "    # Company relationship analysis\n",
    "    subsidiary_specific = len(df_cleaned[df_cleaned['is_subsidiary_parent_company'] == False])\n",
    "    parent_impact = len(df_cleaned[df_cleaned['is_subsidiary_parent_company'] == True])\n",
    "    \n",
    "    print(f\"\\n🏢 COMPANY RELATIONSHIP ANALYSIS:\")\n",
    "    print(f\"   🎯 Direct subsidiary impact: {subsidiary_specific} articles ({subsidiary_specific/len(df_cleaned)*100:.1f}%)\")\n",
    "    print(f\"   🏭 Parent company spillover: {parent_impact} articles ({parent_impact/len(df_cleaned)*100:.1f}%)\")\n",
    "\n",
    "print(f\"\\n💾 OUTPUT FILES:\")\n",
    "print(f\"   📊 Excel: {excel_file.name}\")\n",
    "print(f\"   📋 CSV: {csv_file.name}\")\n",
    "print(f\"   📁 Location: {output_dir.absolute()}\")\n",
    "\n",
    "print(f\"\\n🎉 Analysis completed successfully!\")\n",
    "print(\"=\" * 50)\n"
   ]
  },
  {
   "cell_type": "code",
   "execution_count": null,
   "metadata": {},
   "outputs": [],
   "source": []
  }
 ],
 "metadata": {
  "kernelspec": {
   "display_name": "Python 3 (ipykernel)",
   "language": "python",
   "name": "python3"
  }
 },
 "nbformat": 4,
 "nbformat_minor": 4
}
